{
  "cells": [
    {
      "cell_type": "markdown",
      "source": [
        "# ***Coffee shop DataFrame analysis.***"
      ],
      "metadata": {
        "id": "EjARYq8RqS-3"
      }
    },
    {
      "cell_type": "markdown",
      "metadata": {
        "id": "5wIGnZCwqBcZ"
      },
      "source": [
        "1. Import libraries"
      ]
    },
    {
      "cell_type": "code",
      "execution_count": null,
      "metadata": {
        "id": "UDt8ueaEqBca"
      },
      "outputs": [],
      "source": [
        "import numpy as np\n",
        "import pandas as pd\n",
        "import matplotlib.pyplot as plt\n",
        "import seaborn as sns"
      ]
    },
    {
      "cell_type": "code",
      "execution_count": null,
      "metadata": {
        "id": "-40JaCp6qBcb",
        "outputId": "8168ac94-6578-4901-b9d8-1146c79313c8"
      },
      "outputs": [
        {
          "name": "stdout",
          "output_type": "stream",
          "text": [
            "Requirement already satisfied: openpyxl in c:\\users\\mitru\\appdata\\local\\programs\\python\\python313\\lib\\site-packages (3.1.5)Note: you may need to restart the kernel to use updated packages.\n",
            "\n",
            "Requirement already satisfied: et-xmlfile in c:\\users\\mitru\\appdata\\local\\programs\\python\\python313\\lib\\site-packages (from openpyxl) (2.0.0)\n"
          ]
        }
      ],
      "source": [
        "pip install openpyxl"
      ]
    },
    {
      "cell_type": "markdown",
      "metadata": {
        "id": "WaEQAZkrqBcc"
      },
      "source": [
        "2. Load the DataFrame from the file: Coffee Shop Sales.xlsx"
      ]
    },
    {
      "cell_type": "code",
      "execution_count": null,
      "metadata": {
        "id": "HwrxL1vdqBcd",
        "outputId": "380f6b49-ae81-4f13-d9c4-765859bd91cd"
      },
      "outputs": [
        {
          "data": {
            "text/html": [
              "<div>\n",
              "<style scoped>\n",
              "    .dataframe tbody tr th:only-of-type {\n",
              "        vertical-align: middle;\n",
              "    }\n",
              "\n",
              "    .dataframe tbody tr th {\n",
              "        vertical-align: top;\n",
              "    }\n",
              "\n",
              "    .dataframe thead th {\n",
              "        text-align: right;\n",
              "    }\n",
              "</style>\n",
              "<table border=\"1\" class=\"dataframe\">\n",
              "  <thead>\n",
              "    <tr style=\"text-align: right;\">\n",
              "      <th></th>\n",
              "      <th>transaction_id</th>\n",
              "      <th>transaction_date</th>\n",
              "      <th>transaction_time</th>\n",
              "      <th>transaction_qty</th>\n",
              "      <th>store_id</th>\n",
              "      <th>store_location</th>\n",
              "      <th>product_id</th>\n",
              "      <th>unit_price</th>\n",
              "      <th>product_category</th>\n",
              "      <th>product_type</th>\n",
              "      <th>product_detail</th>\n",
              "    </tr>\n",
              "  </thead>\n",
              "  <tbody>\n",
              "    <tr>\n",
              "      <th>0</th>\n",
              "      <td>1</td>\n",
              "      <td>2023-01-01</td>\n",
              "      <td>07:06:11</td>\n",
              "      <td>2</td>\n",
              "      <td>5</td>\n",
              "      <td>Lower Manhattan</td>\n",
              "      <td>32</td>\n",
              "      <td>3.0</td>\n",
              "      <td>Coffee</td>\n",
              "      <td>Gourmet brewed coffee</td>\n",
              "      <td>Ethiopia Rg</td>\n",
              "    </tr>\n",
              "    <tr>\n",
              "      <th>1</th>\n",
              "      <td>2</td>\n",
              "      <td>2023-01-01</td>\n",
              "      <td>07:08:56</td>\n",
              "      <td>2</td>\n",
              "      <td>5</td>\n",
              "      <td>Lower Manhattan</td>\n",
              "      <td>57</td>\n",
              "      <td>3.1</td>\n",
              "      <td>Tea</td>\n",
              "      <td>Brewed Chai tea</td>\n",
              "      <td>Spicy Eye Opener Chai Lg</td>\n",
              "    </tr>\n",
              "  </tbody>\n",
              "</table>\n",
              "</div>"
            ],
            "text/plain": [
              "   transaction_id transaction_date transaction_time  transaction_qty  \\\n",
              "0               1       2023-01-01         07:06:11                2   \n",
              "1               2       2023-01-01         07:08:56                2   \n",
              "\n",
              "   store_id   store_location  product_id  unit_price product_category  \\\n",
              "0         5  Lower Manhattan          32         3.0           Coffee   \n",
              "1         5  Lower Manhattan          57         3.1              Tea   \n",
              "\n",
              "            product_type            product_detail  \n",
              "0  Gourmet brewed coffee               Ethiopia Rg  \n",
              "1        Brewed Chai tea  Spicy Eye Opener Chai Lg  "
            ]
          },
          "execution_count": 4,
          "metadata": {},
          "output_type": "execute_result"
        }
      ],
      "source": [
        "# Load Excel Dataframe\n",
        "df_coffee = pd.read_excel(\"01.datasets/Coffee Shop Sales.xlsx\")\n",
        "df_coffee.head(2)"
      ]
    },
    {
      "cell_type": "markdown",
      "metadata": {
        "id": "Ucfy41vuqBcd"
      },
      "source": [
        "3. Display the columns of the DataFrame"
      ]
    },
    {
      "cell_type": "code",
      "execution_count": null,
      "metadata": {
        "id": "bTo3Ylg8qBcd",
        "outputId": "0bfdc6df-5ad0-496f-8c3b-4dc743209622"
      },
      "outputs": [
        {
          "data": {
            "text/plain": [
              "Index(['transaction_id', 'transaction_date', 'transaction_time',\n",
              "       'transaction_qty', 'store_id', 'store_location', 'product_id',\n",
              "       'unit_price', 'product_category', 'product_type', 'product_detail'],\n",
              "      dtype='object')"
            ]
          },
          "execution_count": 44,
          "metadata": {},
          "output_type": "execute_result"
        }
      ],
      "source": [
        "df_coffee.columns"
      ]
    },
    {
      "cell_type": "markdown",
      "metadata": {
        "id": "loZgoyURqBcd"
      },
      "source": [
        "4. Display the DataFrame information"
      ]
    },
    {
      "cell_type": "code",
      "execution_count": null,
      "metadata": {
        "id": "K9w0nBALqBce",
        "outputId": "b7580eeb-a4b0-4922-9ffb-5dd7921dd1c3"
      },
      "outputs": [
        {
          "name": "stdout",
          "output_type": "stream",
          "text": [
            "<class 'pandas.core.frame.DataFrame'>\n",
            "RangeIndex: 149116 entries, 0 to 149115\n",
            "Data columns (total 11 columns):\n",
            " #   Column            Non-Null Count   Dtype         \n",
            "---  ------            --------------   -----         \n",
            " 0   transaction_id    149116 non-null  int64         \n",
            " 1   transaction_date  149100 non-null  datetime64[ns]\n",
            " 2   transaction_time  149101 non-null  object        \n",
            " 3   transaction_qty   149116 non-null  int64         \n",
            " 4   store_id          149116 non-null  int64         \n",
            " 5   store_location    149100 non-null  object        \n",
            " 6   product_id        149116 non-null  int64         \n",
            " 7   unit_price        149116 non-null  float64       \n",
            " 8   product_category  149115 non-null  object        \n",
            " 9   product_type      149116 non-null  object        \n",
            " 10  product_detail    149097 non-null  object        \n",
            "dtypes: datetime64[ns](1), float64(1), int64(4), object(5)\n",
            "memory usage: 12.5+ MB\n"
          ]
        }
      ],
      "source": [
        "df_coffee.info()"
      ]
    },
    {
      "cell_type": "markdown",
      "metadata": {
        "id": "IGmDH2OQqBce"
      },
      "source": [
        "# Interpretation:\n",
        "\n",
        "This DataFrame has 149116 records and a total of 11 columns with a range of data type between Integers, Objects, Floats and NaN. The columns are Transaction ID, Transaction Date, Transaction Time, Transaction Quantity, Store ID, Store Location, Product ID, Unit Price, Product Category, Product Type, Product Detail. This DataFrame is an inventory of sales made in which location and for which products."
      ]
    },
    {
      "cell_type": "markdown",
      "metadata": {
        "id": "sfVA9dJUqBce"
      },
      "source": [
        "5. Main statistics of numerical variables"
      ]
    },
    {
      "cell_type": "code",
      "execution_count": null,
      "metadata": {
        "id": "e0ChCOBwqBce",
        "outputId": "9c5d1672-3a76-4b46-8326-4e6387dc6e5a"
      },
      "outputs": [
        {
          "data": {
            "text/html": [
              "<div>\n",
              "<style scoped>\n",
              "    .dataframe tbody tr th:only-of-type {\n",
              "        vertical-align: middle;\n",
              "    }\n",
              "\n",
              "    .dataframe tbody tr th {\n",
              "        vertical-align: top;\n",
              "    }\n",
              "\n",
              "    .dataframe thead th {\n",
              "        text-align: right;\n",
              "    }\n",
              "</style>\n",
              "<table border=\"1\" class=\"dataframe\">\n",
              "  <thead>\n",
              "    <tr style=\"text-align: right;\">\n",
              "      <th></th>\n",
              "      <th>transaction_id</th>\n",
              "      <th>transaction_date</th>\n",
              "      <th>transaction_time</th>\n",
              "      <th>transaction_qty</th>\n",
              "      <th>store_id</th>\n",
              "      <th>store_location</th>\n",
              "      <th>product_id</th>\n",
              "      <th>unit_price</th>\n",
              "      <th>product_category</th>\n",
              "      <th>product_type</th>\n",
              "      <th>product_detail</th>\n",
              "    </tr>\n",
              "  </thead>\n",
              "  <tbody>\n",
              "    <tr>\n",
              "      <th>count</th>\n",
              "      <td>149116.000000</td>\n",
              "      <td>149100</td>\n",
              "      <td>149101</td>\n",
              "      <td>149116.000000</td>\n",
              "      <td>149116.000000</td>\n",
              "      <td>149100</td>\n",
              "      <td>149116.000000</td>\n",
              "      <td>149116.000000</td>\n",
              "      <td>149115</td>\n",
              "      <td>149116</td>\n",
              "      <td>149097</td>\n",
              "    </tr>\n",
              "    <tr>\n",
              "      <th>unique</th>\n",
              "      <td>NaN</td>\n",
              "      <td>NaN</td>\n",
              "      <td>25762</td>\n",
              "      <td>NaN</td>\n",
              "      <td>NaN</td>\n",
              "      <td>3</td>\n",
              "      <td>NaN</td>\n",
              "      <td>NaN</td>\n",
              "      <td>9</td>\n",
              "      <td>29</td>\n",
              "      <td>80</td>\n",
              "    </tr>\n",
              "    <tr>\n",
              "      <th>top</th>\n",
              "      <td>NaN</td>\n",
              "      <td>NaN</td>\n",
              "      <td>09:31:15</td>\n",
              "      <td>NaN</td>\n",
              "      <td>NaN</td>\n",
              "      <td>Hell's Kitchen</td>\n",
              "      <td>NaN</td>\n",
              "      <td>NaN</td>\n",
              "      <td>Coffee</td>\n",
              "      <td>Brewed Chai tea</td>\n",
              "      <td>Chocolate Croissant</td>\n",
              "    </tr>\n",
              "    <tr>\n",
              "      <th>freq</th>\n",
              "      <td>NaN</td>\n",
              "      <td>NaN</td>\n",
              "      <td>41</td>\n",
              "      <td>NaN</td>\n",
              "      <td>NaN</td>\n",
              "      <td>50730</td>\n",
              "      <td>NaN</td>\n",
              "      <td>NaN</td>\n",
              "      <td>58416</td>\n",
              "      <td>17183</td>\n",
              "      <td>3076</td>\n",
              "    </tr>\n",
              "    <tr>\n",
              "      <th>mean</th>\n",
              "      <td>74737.371872</td>\n",
              "      <td>2023-04-15 11:57:05.577465088</td>\n",
              "      <td>NaN</td>\n",
              "      <td>1.438276</td>\n",
              "      <td>5.342063</td>\n",
              "      <td>NaN</td>\n",
              "      <td>47.918607</td>\n",
              "      <td>3.382219</td>\n",
              "      <td>NaN</td>\n",
              "      <td>NaN</td>\n",
              "      <td>NaN</td>\n",
              "    </tr>\n",
              "    <tr>\n",
              "      <th>min</th>\n",
              "      <td>1.000000</td>\n",
              "      <td>2023-01-01 00:00:00</td>\n",
              "      <td>NaN</td>\n",
              "      <td>1.000000</td>\n",
              "      <td>3.000000</td>\n",
              "      <td>NaN</td>\n",
              "      <td>1.000000</td>\n",
              "      <td>0.800000</td>\n",
              "      <td>NaN</td>\n",
              "      <td>NaN</td>\n",
              "      <td>NaN</td>\n",
              "    </tr>\n",
              "    <tr>\n",
              "      <th>25%</th>\n",
              "      <td>37335.750000</td>\n",
              "      <td>2023-03-06 00:00:00</td>\n",
              "      <td>NaN</td>\n",
              "      <td>1.000000</td>\n",
              "      <td>3.000000</td>\n",
              "      <td>NaN</td>\n",
              "      <td>33.000000</td>\n",
              "      <td>2.500000</td>\n",
              "      <td>NaN</td>\n",
              "      <td>NaN</td>\n",
              "      <td>NaN</td>\n",
              "    </tr>\n",
              "    <tr>\n",
              "      <th>50%</th>\n",
              "      <td>74727.500000</td>\n",
              "      <td>2023-04-24 00:00:00</td>\n",
              "      <td>NaN</td>\n",
              "      <td>1.000000</td>\n",
              "      <td>5.000000</td>\n",
              "      <td>NaN</td>\n",
              "      <td>47.000000</td>\n",
              "      <td>3.000000</td>\n",
              "      <td>NaN</td>\n",
              "      <td>NaN</td>\n",
              "      <td>NaN</td>\n",
              "    </tr>\n",
              "    <tr>\n",
              "      <th>75%</th>\n",
              "      <td>112094.250000</td>\n",
              "      <td>2023-05-30 00:00:00</td>\n",
              "      <td>NaN</td>\n",
              "      <td>2.000000</td>\n",
              "      <td>8.000000</td>\n",
              "      <td>NaN</td>\n",
              "      <td>60.000000</td>\n",
              "      <td>3.750000</td>\n",
              "      <td>NaN</td>\n",
              "      <td>NaN</td>\n",
              "      <td>NaN</td>\n",
              "    </tr>\n",
              "    <tr>\n",
              "      <th>max</th>\n",
              "      <td>149456.000000</td>\n",
              "      <td>2023-06-30 00:00:00</td>\n",
              "      <td>NaN</td>\n",
              "      <td>8.000000</td>\n",
              "      <td>8.000000</td>\n",
              "      <td>NaN</td>\n",
              "      <td>87.000000</td>\n",
              "      <td>45.000000</td>\n",
              "      <td>NaN</td>\n",
              "      <td>NaN</td>\n",
              "      <td>NaN</td>\n",
              "    </tr>\n",
              "    <tr>\n",
              "      <th>std</th>\n",
              "      <td>43153.600016</td>\n",
              "      <td>NaN</td>\n",
              "      <td>NaN</td>\n",
              "      <td>0.542509</td>\n",
              "      <td>2.074241</td>\n",
              "      <td>NaN</td>\n",
              "      <td>17.930020</td>\n",
              "      <td>2.658723</td>\n",
              "      <td>NaN</td>\n",
              "      <td>NaN</td>\n",
              "      <td>NaN</td>\n",
              "    </tr>\n",
              "  </tbody>\n",
              "</table>\n",
              "</div>"
            ],
            "text/plain": [
              "        transaction_id               transaction_date transaction_time  \\\n",
              "count    149116.000000                         149100           149101   \n",
              "unique             NaN                            NaN            25762   \n",
              "top                NaN                            NaN         09:31:15   \n",
              "freq               NaN                            NaN               41   \n",
              "mean      74737.371872  2023-04-15 11:57:05.577465088              NaN   \n",
              "min           1.000000            2023-01-01 00:00:00              NaN   \n",
              "25%       37335.750000            2023-03-06 00:00:00              NaN   \n",
              "50%       74727.500000            2023-04-24 00:00:00              NaN   \n",
              "75%      112094.250000            2023-05-30 00:00:00              NaN   \n",
              "max      149456.000000            2023-06-30 00:00:00              NaN   \n",
              "std       43153.600016                            NaN              NaN   \n",
              "\n",
              "        transaction_qty       store_id  store_location     product_id  \\\n",
              "count     149116.000000  149116.000000          149100  149116.000000   \n",
              "unique              NaN            NaN               3            NaN   \n",
              "top                 NaN            NaN  Hell's Kitchen            NaN   \n",
              "freq                NaN            NaN           50730            NaN   \n",
              "mean           1.438276       5.342063             NaN      47.918607   \n",
              "min            1.000000       3.000000             NaN       1.000000   \n",
              "25%            1.000000       3.000000             NaN      33.000000   \n",
              "50%            1.000000       5.000000             NaN      47.000000   \n",
              "75%            2.000000       8.000000             NaN      60.000000   \n",
              "max            8.000000       8.000000             NaN      87.000000   \n",
              "std            0.542509       2.074241             NaN      17.930020   \n",
              "\n",
              "           unit_price product_category     product_type       product_detail  \n",
              "count   149116.000000           149115           149116               149097  \n",
              "unique            NaN                9               29                   80  \n",
              "top               NaN           Coffee  Brewed Chai tea  Chocolate Croissant  \n",
              "freq              NaN            58416            17183                 3076  \n",
              "mean         3.382219              NaN              NaN                  NaN  \n",
              "min          0.800000              NaN              NaN                  NaN  \n",
              "25%          2.500000              NaN              NaN                  NaN  \n",
              "50%          3.000000              NaN              NaN                  NaN  \n",
              "75%          3.750000              NaN              NaN                  NaN  \n",
              "max         45.000000              NaN              NaN                  NaN  \n",
              "std          2.658723              NaN              NaN                  NaN  "
            ]
          },
          "execution_count": 46,
          "metadata": {},
          "output_type": "execute_result"
        }
      ],
      "source": [
        "df_coffee.describe(include='all')"
      ]
    },
    {
      "cell_type": "markdown",
      "metadata": {
        "id": "TC4s15N-qBce"
      },
      "source": [
        "6. DataFrame dimensions"
      ]
    },
    {
      "cell_type": "code",
      "execution_count": null,
      "metadata": {
        "id": "1845Eq9KqBce",
        "outputId": "e368ced8-10ec-4d6f-8dd0-6241d63241c5"
      },
      "outputs": [
        {
          "name": "stdout",
          "output_type": "stream",
          "text": [
            "The dataframe dimensions are as follows: 149116 columns and 11 rows.\n"
          ]
        }
      ],
      "source": [
        "dimensiones = df_coffee.shape\n",
        "print(f\"The dataframe dimensions are as follows: {dimensiones[0]} columns and {dimensiones[1]} rows.\")\n",
        "#Columns are represented by cero and rows by one."
      ]
    },
    {
      "cell_type": "markdown",
      "metadata": {
        "id": "qsKG6GFcqBcf"
      },
      "source": [
        "7. Maximum value and name of a product in the DataFrame"
      ]
    },
    {
      "cell_type": "code",
      "execution_count": null,
      "metadata": {
        "id": "iyvVfp_2qBcf",
        "outputId": "cc5eeae3-5f0c-4d4f-8a1b-05dc74e7f7da"
      },
      "outputs": [
        {
          "name": "stdout",
          "output_type": "stream",
          "text": [
            "The maximum value of the dataframe is 45.0 and it's name is 'Civet Cat'\n"
          ]
        }
      ],
      "source": [
        "max_price = df_coffee['unit_price'].idxmax()\n",
        "\n",
        "max_product = df_coffee.loc[max_price, 'product_detail']\n",
        "max_value = df_coffee.loc[max_price, 'unit_price']\n",
        "\n",
        "print(f\"The maximum value of the dataframe is {max_value} and it's name is '{max_product}'\")"
      ]
    },
    {
      "cell_type": "markdown",
      "metadata": {
        "id": "qmr1eiAcqBcf"
      },
      "source": [
        "8. Created a new column called `transaction_price`"
      ]
    },
    {
      "cell_type": "code",
      "execution_count": null,
      "metadata": {
        "id": "kn8n6bMTqBcf",
        "outputId": "aaad1f80-e254-4fbd-fb5e-e8f9f8429194"
      },
      "outputs": [
        {
          "data": {
            "text/html": [
              "<div>\n",
              "<style scoped>\n",
              "    .dataframe tbody tr th:only-of-type {\n",
              "        vertical-align: middle;\n",
              "    }\n",
              "\n",
              "    .dataframe tbody tr th {\n",
              "        vertical-align: top;\n",
              "    }\n",
              "\n",
              "    .dataframe thead th {\n",
              "        text-align: right;\n",
              "    }\n",
              "</style>\n",
              "<table border=\"1\" class=\"dataframe\">\n",
              "  <thead>\n",
              "    <tr style=\"text-align: right;\">\n",
              "      <th></th>\n",
              "      <th>transaction_id</th>\n",
              "      <th>transaction_date</th>\n",
              "      <th>transaction_time</th>\n",
              "      <th>transaction_qty</th>\n",
              "      <th>store_id</th>\n",
              "      <th>store_location</th>\n",
              "      <th>product_id</th>\n",
              "      <th>unit_price</th>\n",
              "      <th>product_category</th>\n",
              "      <th>product_type</th>\n",
              "      <th>product_detail</th>\n",
              "      <th>transaction_price</th>\n",
              "    </tr>\n",
              "  </thead>\n",
              "  <tbody>\n",
              "    <tr>\n",
              "      <th>0</th>\n",
              "      <td>1</td>\n",
              "      <td>2023-01-01</td>\n",
              "      <td>07:06:11</td>\n",
              "      <td>2</td>\n",
              "      <td>5</td>\n",
              "      <td>Lower Manhattan</td>\n",
              "      <td>32</td>\n",
              "      <td>3.0</td>\n",
              "      <td>Coffee</td>\n",
              "      <td>Gourmet brewed coffee</td>\n",
              "      <td>Ethiopia Rg</td>\n",
              "      <td>6.0</td>\n",
              "    </tr>\n",
              "    <tr>\n",
              "      <th>1</th>\n",
              "      <td>2</td>\n",
              "      <td>2023-01-01</td>\n",
              "      <td>07:08:56</td>\n",
              "      <td>2</td>\n",
              "      <td>5</td>\n",
              "      <td>Lower Manhattan</td>\n",
              "      <td>57</td>\n",
              "      <td>3.1</td>\n",
              "      <td>Tea</td>\n",
              "      <td>Brewed Chai tea</td>\n",
              "      <td>Spicy Eye Opener Chai Lg</td>\n",
              "      <td>6.2</td>\n",
              "    </tr>\n",
              "    <tr>\n",
              "      <th>2</th>\n",
              "      <td>3</td>\n",
              "      <td>2023-01-01</td>\n",
              "      <td>07:14:04</td>\n",
              "      <td>2</td>\n",
              "      <td>5</td>\n",
              "      <td>Lower Manhattan</td>\n",
              "      <td>59</td>\n",
              "      <td>4.5</td>\n",
              "      <td>Drinking Chocolate</td>\n",
              "      <td>Hot chocolate</td>\n",
              "      <td>Dark chocolate Lg</td>\n",
              "      <td>9.0</td>\n",
              "    </tr>\n",
              "  </tbody>\n",
              "</table>\n",
              "</div>"
            ],
            "text/plain": [
              "   transaction_id transaction_date transaction_time  transaction_qty  \\\n",
              "0               1       2023-01-01         07:06:11                2   \n",
              "1               2       2023-01-01         07:08:56                2   \n",
              "2               3       2023-01-01         07:14:04                2   \n",
              "\n",
              "   store_id   store_location  product_id  unit_price    product_category  \\\n",
              "0         5  Lower Manhattan          32         3.0              Coffee   \n",
              "1         5  Lower Manhattan          57         3.1                 Tea   \n",
              "2         5  Lower Manhattan          59         4.5  Drinking Chocolate   \n",
              "\n",
              "            product_type            product_detail  transaction_price  \n",
              "0  Gourmet brewed coffee               Ethiopia Rg                6.0  \n",
              "1        Brewed Chai tea  Spicy Eye Opener Chai Lg                6.2  \n",
              "2          Hot chocolate         Dark chocolate Lg                9.0  "
            ]
          },
          "execution_count": 49,
          "metadata": {},
          "output_type": "execute_result"
        }
      ],
      "source": [
        "df_coffee['transaction_price'] = df_coffee['transaction_qty'] * df_coffee['unit_price']\n",
        "\n",
        "# This column represents the price of a transaction, obtained by multiplying\n",
        "# the unit price of a product by the transaction quantity registered for this sale.\n",
        "\n",
        "df_coffee.head(3)"
      ]
    },
    {
      "cell_type": "markdown",
      "metadata": {
        "id": "ZCqz2fpwqBcf"
      },
      "source": [
        "9. Filter the data by `product_category` to find all `coffee` products"
      ]
    },
    {
      "cell_type": "code",
      "execution_count": null,
      "metadata": {
        "id": "f2HJxxnmqBcg",
        "outputId": "0bc55bfd-417d-46e9-87f5-c63cf3b3c747"
      },
      "outputs": [
        {
          "name": "stdout",
          "output_type": "stream",
          "text": [
            "        transaction_id transaction_date transaction_time  transaction_qty  \\\n",
            "0                    1       2023-01-01         07:06:11                2   \n",
            "3                    4       2023-01-01         07:20:24                1   \n",
            "6                    7       2023-01-01         07:25:49                1   \n",
            "7                    8       2023-01-01         07:33:34                2   \n",
            "8                    9       2023-01-01         07:39:13                1   \n",
            "...                ...              ...              ...              ...   \n",
            "149103          149444       2023-06-30         19:51:59                2   \n",
            "149104          149445       2023-06-30         19:52:28                2   \n",
            "149105          149446       2023-06-30         19:53:46                1   \n",
            "149106          149447       2023-06-30         19:56:45                1   \n",
            "149114          149455       2023-06-30         20:57:19                1   \n",
            "\n",
            "        store_id   store_location  product_id  unit_price product_category  \\\n",
            "0              5  Lower Manhattan          32        3.00           Coffee   \n",
            "3              5  Lower Manhattan          22        2.00           Coffee   \n",
            "6              5  Lower Manhattan          22        2.00           Coffee   \n",
            "7              5  Lower Manhattan          28        2.00           Coffee   \n",
            "8              5  Lower Manhattan          39        4.25           Coffee   \n",
            "...          ...              ...         ...         ...              ...   \n",
            "149103         3          Astoria          26        3.00           Coffee   \n",
            "149104         3          Astoria          34        2.45           Coffee   \n",
            "149105         3          Astoria          24        3.00           Coffee   \n",
            "149106         8   Hell's Kitchen          33        3.50           Coffee   \n",
            "149114         8   Hell's Kitchen          40        3.75           Coffee   \n",
            "\n",
            "                 product_type               product_detail  transaction_price  \n",
            "0       Gourmet brewed coffee                  Ethiopia Rg               6.00  \n",
            "3                 Drip coffee  Our Old Time Diner Blend Sm               2.00  \n",
            "6                 Drip coffee  Our Old Time Diner Blend Sm               2.00  \n",
            "7       Gourmet brewed coffee    Columbian Medium Roast Sm               4.00  \n",
            "8            Barista Espresso                     Latte Rg               4.25  \n",
            "...                       ...                          ...                ...  \n",
            "149103  Organic brewed coffee                 Brazilian Rg               6.00  \n",
            "149104  Premium brewed coffee     Jamaican Coffee River Sm               4.90  \n",
            "149105            Drip coffee  Our Old Time Diner Blend Lg               3.00  \n",
            "149106  Gourmet brewed coffee                  Ethiopia Lg               3.50  \n",
            "149114       Barista Espresso                   Cappuccino               3.75  \n",
            "\n",
            "[58416 rows x 12 columns]\n"
          ]
        }
      ],
      "source": [
        "filter = df_coffee[df_coffee['product_category'] == 'Coffee']\n",
        "print(filter)"
      ]
    },
    {
      "cell_type": "markdown",
      "metadata": {
        "id": "aQVTYl6KqBcg"
      },
      "source": [
        "10. Find the most expensive coffee products on the `product_category`"
      ]
    },
    {
      "cell_type": "code",
      "execution_count": null,
      "metadata": {
        "id": "maFYzvuXqBcg",
        "outputId": "ed2cd3a7-d9f9-42a2-d0f6-18becad82505"
      },
      "outputs": [
        {
          "name": "stdout",
          "output_type": "stream",
          "text": [
            "The cheapest coffee product is: \n",
            "transaction_id                                 4\n",
            "transaction_date             2023-01-01 00:00:00\n",
            "transaction_time                        07:20:24\n",
            "transaction_qty                                1\n",
            "store_id                                       5\n",
            "store_location                   Lower Manhattan\n",
            "product_id                                    22\n",
            "unit_price                                   2.0\n",
            "product_category                          Coffee\n",
            "product_type                         Drip coffee\n",
            "product_detail       Our Old Time Diner Blend Sm\n",
            "transaction_price                            2.0\n",
            "Name: 3, dtype: object\n",
            "\n",
            "The most expensive coffee product is: \n",
            "transaction_id                         9\n",
            "transaction_date     2023-01-01 00:00:00\n",
            "transaction_time                07:39:13\n",
            "transaction_qty                        1\n",
            "store_id                               5\n",
            "store_location           Lower Manhattan\n",
            "product_id                            39\n",
            "unit_price                          4.25\n",
            "product_category                  Coffee\n",
            "product_type            Barista Espresso\n",
            "product_detail                  Latte Rg\n",
            "transaction_price                   4.25\n",
            "Name: 8, dtype: object\n"
          ]
        }
      ],
      "source": [
        "df = df_coffee[df_coffee['product_category'] == 'Coffee']\n",
        "\n",
        "df_expensive = df.loc[df['unit_price'].idxmax()]\n",
        "df_cheapest = df.loc[df['unit_price'].idxmin()]\n",
        "\n",
        "print(f\"The cheapest coffee product is: \\n{df_cheapest}\")\n",
        "\n",
        "print(f\"\\nThe most expensive coffee product is: \\n{df_expensive}\")"
      ]
    },
    {
      "cell_type": "markdown",
      "metadata": {
        "id": "58b-ron0qBcg"
      },
      "source": [
        "11. Nule count value of each column"
      ]
    },
    {
      "cell_type": "code",
      "execution_count": null,
      "metadata": {
        "id": "ZbsXke87qBcg",
        "outputId": "caa0443b-de59-4869-8603-494bca09ea43"
      },
      "outputs": [
        {
          "data": {
            "text/plain": [
              "transaction_id        0\n",
              "transaction_date     16\n",
              "transaction_time     15\n",
              "transaction_qty       0\n",
              "store_id              0\n",
              "store_location       16\n",
              "product_id            0\n",
              "unit_price            0\n",
              "product_category      1\n",
              "product_type          0\n",
              "product_detail       19\n",
              "transaction_price     0\n",
              "dtype: int64"
            ]
          },
          "execution_count": 52,
          "metadata": {},
          "output_type": "execute_result"
        }
      ],
      "source": [
        "df_coffee.isna().sum()"
      ]
    },
    {
      "cell_type": "markdown",
      "metadata": {
        "id": "BwbVw494qBcg"
      },
      "source": [
        "12. Percentage of null count value of each column"
      ]
    },
    {
      "cell_type": "code",
      "execution_count": null,
      "metadata": {
        "id": "WeBrF__cqBcg",
        "outputId": "3d89f54f-5975-42be-baf5-126362a43dc6"
      },
      "outputs": [
        {
          "name": "stdout",
          "output_type": "stream",
          "text": [
            "product_detail       0.013\n",
            "transaction_date     0.011\n",
            "store_location       0.011\n",
            "transaction_time     0.010\n",
            "product_category     0.001\n",
            "transaction_id       0.000\n",
            "transaction_qty      0.000\n",
            "store_id             0.000\n",
            "unit_price           0.000\n",
            "product_id           0.000\n",
            "product_type         0.000\n",
            "transaction_price    0.000\n",
            "dtype: float64\n"
          ]
        }
      ],
      "source": [
        "null_porcentaje = (df_coffee.isnull().sum()/len(df_coffee)*100).sort_values(ascending = False)\n",
        "null = null_porcentaje.round(3)\n",
        "print(null)"
      ]
    },
    {
      "cell_type": "markdown",
      "metadata": {
        "id": "8egITRJwqBch"
      },
      "source": [
        "13. Null treatment of the DataFrame"
      ]
    },
    {
      "cell_type": "code",
      "execution_count": null,
      "metadata": {
        "id": "BRHSXGOWqBch",
        "outputId": "c35d6135-a86d-4eba-dd02-2967bb4d35b4"
      },
      "outputs": [
        {
          "data": {
            "text/plain": [
              "transaction_id       0\n",
              "transaction_date     0\n",
              "transaction_time     0\n",
              "transaction_qty      0\n",
              "store_id             0\n",
              "store_location       0\n",
              "product_id           0\n",
              "unit_price           0\n",
              "product_category     0\n",
              "product_type         0\n",
              "product_detail       0\n",
              "transaction_price    0\n",
              "dtype: int64"
            ]
          },
          "execution_count": 54,
          "metadata": {},
          "output_type": "execute_result"
        }
      ],
      "source": [
        "df_coffee['transaction_date'] = df_coffee['transaction_date'].fillna(0)\n",
        "df_coffee['transaction_time'] = df_coffee['transaction_time'].fillna(0)\n",
        "df_coffee['store_location'] = df_coffee['store_location'].fillna(0)\n",
        "df_coffee['product_category'] = df_coffee['product_category'].fillna(0)\n",
        "df_coffee['product_detail'] = df_coffee['product_detail'].fillna(0)\n",
        "\n",
        "df_coffee.isnull().sum()\n",
        "\n",
        "# The fillna() method in Pandas is used to fill missing (or \"NaN\") values in a DataFrame or Series with a specified value.\n",
        "# In this case, I choose to fill all the NaNs with zero, because it's useful when missing values represent \"nothing\" or \"absence\" (e.g. zero sales).\n",
        "# It also ensures that calculations (such as sums) aren't distorted by missing data."
      ]
    },
    {
      "cell_type": "markdown",
      "metadata": {
        "id": "2c1O3UP9qBch"
      },
      "source": [
        "14. Checking column data before running a bivariate analysis"
      ]
    },
    {
      "cell_type": "code",
      "execution_count": null,
      "metadata": {
        "id": "umXRdNJSqBch",
        "outputId": "a88a0704-53fc-41de-bfd4-24c4397ca0c2"
      },
      "outputs": [
        {
          "data": {
            "text/plain": [
              "array(['Coffee', 'Tea', 'Drinking Chocolate', 'Bakery', 0, 'Flavours',\n",
              "       'Loose Tea', 'Coffee beans', 'Packaged Chocolate', 'Branded'],\n",
              "      dtype=object)"
            ]
          },
          "execution_count": 55,
          "metadata": {},
          "output_type": "execute_result"
        }
      ],
      "source": [
        "df_coffee['product_category'].unique()"
      ]
    },
    {
      "cell_type": "code",
      "execution_count": null,
      "metadata": {
        "id": "ziqv0NbMqBch",
        "outputId": "59ee7a27-8cb8-4a77-f6c9-95e69664b497"
      },
      "outputs": [
        {
          "data": {
            "text/plain": [
              "array([2, 1, 3, 4, 8, 6])"
            ]
          },
          "execution_count": 56,
          "metadata": {},
          "output_type": "execute_result"
        }
      ],
      "source": [
        "df_coffee['transaction_qty'].unique()"
      ]
    },
    {
      "cell_type": "markdown",
      "metadata": {
        "id": "pzARYgs8qBch"
      },
      "source": [
        "15. Bivariate analysis for two data sets"
      ]
    },
    {
      "cell_type": "code",
      "execution_count": null,
      "metadata": {
        "id": "XY2vCeiHqBci",
        "outputId": "264a750e-bf49-4353-c003-487b6760d25f"
      },
      "outputs": [
        {
          "data": {
            "image/png": "[encoded data removed]",
            "text/plain": [
              "<Figure size 2000x2000 with 1 Axes>"
            ]
          },
          "metadata": {},
          "output_type": "display_data"
        }
      ],
      "source": [
        "plt.figure(figsize=(20, 20))\n",
        "sns.countplot(data=df_coffee, x='product_category', hue='transaction_qty', palette='Set2')\n",
        "plt.title('Sales volume by product category')\n",
        "plt.xlabel('Product Category')\n",
        "plt.ylabel('Transaction Quantity')\n",
        "plt.show()"
      ]
    },
    {
      "cell_type": "markdown",
      "metadata": {
        "id": "Wazm7Kw0qBci"
      },
      "source": [
        "# Explanation #1:\n",
        "\n",
        "Question: Which product is the best seller in this café?\n",
        "\n",
        "From this bar chart we can see that the public have a preference for coffee, tea and bakery, and they usually buy these products in one or two units, with the possibility of buying more than 1 or 2 units of these products less likely. There is a marked preference for coffee, usually bought in one or two units, followed by tea, drinking chocolate is more in a pair, people usually buy these in one or two and less likely three units and bakery is usually bought in one unit, the flavourings product category is also in a pair with 1 or 2 units usually sold and finally loose tea, coffee beans, packaged coffee and branded are usually bought in one unit. Needless to say, people in this coffee shop have a preference for the three products mentioned above (coffee, tea and bakery), with coffee being the first.\n",
        "\n",
        "There is information for coffee beans bought 8 times, which is atypical."
      ]
    },
    {
      "cell_type": "markdown",
      "metadata": {
        "id": "vlAgnb2KqBci"
      },
      "source": [
        "16. Checking column data before running another bivariate analysis"
      ]
    },
    {
      "cell_type": "code",
      "execution_count": null,
      "metadata": {
        "id": "vLxXRW_cqBci",
        "outputId": "e718e7dd-4b81-466d-a5c7-4f976f0dd390"
      },
      "outputs": [
        {
          "data": {
            "text/plain": [
              "transaction_id         int64\n",
              "transaction_date      object\n",
              "transaction_time      object\n",
              "transaction_qty        int64\n",
              "store_id               int64\n",
              "store_location        object\n",
              "product_id             int64\n",
              "unit_price           float64\n",
              "product_category      object\n",
              "product_type          object\n",
              "product_detail        object\n",
              "transaction_price    float64\n",
              "dtype: object"
            ]
          },
          "execution_count": 58,
          "metadata": {},
          "output_type": "execute_result"
        }
      ],
      "source": [
        "df_coffee.dtypes"
      ]
    },
    {
      "cell_type": "code",
      "execution_count": null,
      "metadata": {
        "id": "YUtieV83qBci",
        "outputId": "bab33dc6-5609-4f5d-f46a-bff19fc0fe4a"
      },
      "outputs": [
        {
          "data": {
            "text/plain": [
              "array(['Lower Manhattan', \"Hell's Kitchen\", 'Astoria', 0], dtype=object)"
            ]
          },
          "execution_count": 59,
          "metadata": {},
          "output_type": "execute_result"
        }
      ],
      "source": [
        "df_coffee['store_location'].unique()"
      ]
    },
    {
      "cell_type": "code",
      "execution_count": null,
      "metadata": {
        "id": "moSzpvXGqBcj",
        "outputId": "b603b308-e7bd-4ad2-e0b7-a9284489d4b3"
      },
      "outputs": [
        {
          "data": {
            "text/plain": [
              "array([5, 8, 3])"
            ]
          },
          "execution_count": 23,
          "metadata": {},
          "output_type": "execute_result"
        }
      ],
      "source": [
        "df_coffee['store_id'].unique()"
      ]
    },
    {
      "cell_type": "code",
      "execution_count": null,
      "metadata": {
        "id": "F6tOaG17qBcj",
        "outputId": "ceecf4b9-9c39-4490-b5e5-b179d8408a90"
      },
      "outputs": [
        {
          "data": {
            "text/html": [
              "<div>\n",
              "<style scoped>\n",
              "    .dataframe tbody tr th:only-of-type {\n",
              "        vertical-align: middle;\n",
              "    }\n",
              "\n",
              "    .dataframe tbody tr th {\n",
              "        vertical-align: top;\n",
              "    }\n",
              "\n",
              "    .dataframe thead th {\n",
              "        text-align: right;\n",
              "    }\n",
              "</style>\n",
              "<table border=\"1\" class=\"dataframe\">\n",
              "  <thead>\n",
              "    <tr style=\"text-align: right;\">\n",
              "      <th></th>\n",
              "      <th>store_location</th>\n",
              "      <th>store_id</th>\n",
              "    </tr>\n",
              "  </thead>\n",
              "  <tbody>\n",
              "    <tr>\n",
              "      <th>0</th>\n",
              "      <td>Lower Manhattan</td>\n",
              "      <td>5</td>\n",
              "    </tr>\n",
              "    <tr>\n",
              "      <th>1</th>\n",
              "      <td>Lower Manhattan</td>\n",
              "      <td>5</td>\n",
              "    </tr>\n",
              "    <tr>\n",
              "      <th>2</th>\n",
              "      <td>Lower Manhattan</td>\n",
              "      <td>5</td>\n",
              "    </tr>\n",
              "    <tr>\n",
              "      <th>3</th>\n",
              "      <td>Lower Manhattan</td>\n",
              "      <td>5</td>\n",
              "    </tr>\n",
              "    <tr>\n",
              "      <th>4</th>\n",
              "      <td>Lower Manhattan</td>\n",
              "      <td>5</td>\n",
              "    </tr>\n",
              "    <tr>\n",
              "      <th>...</th>\n",
              "      <td>...</td>\n",
              "      <td>...</td>\n",
              "    </tr>\n",
              "    <tr>\n",
              "      <th>149111</th>\n",
              "      <td>Hell's Kitchen</td>\n",
              "      <td>8</td>\n",
              "    </tr>\n",
              "    <tr>\n",
              "      <th>149112</th>\n",
              "      <td>Hell's Kitchen</td>\n",
              "      <td>8</td>\n",
              "    </tr>\n",
              "    <tr>\n",
              "      <th>149113</th>\n",
              "      <td>Hell's Kitchen</td>\n",
              "      <td>8</td>\n",
              "    </tr>\n",
              "    <tr>\n",
              "      <th>149114</th>\n",
              "      <td>Hell's Kitchen</td>\n",
              "      <td>8</td>\n",
              "    </tr>\n",
              "    <tr>\n",
              "      <th>149115</th>\n",
              "      <td>Hell's Kitchen</td>\n",
              "      <td>8</td>\n",
              "    </tr>\n",
              "  </tbody>\n",
              "</table>\n",
              "<p>149116 rows × 2 columns</p>\n",
              "</div>"
            ],
            "text/plain": [
              "         store_location  store_id\n",
              "0       Lower Manhattan         5\n",
              "1       Lower Manhattan         5\n",
              "2       Lower Manhattan         5\n",
              "3       Lower Manhattan         5\n",
              "4       Lower Manhattan         5\n",
              "...                 ...       ...\n",
              "149111   Hell's Kitchen         8\n",
              "149112   Hell's Kitchen         8\n",
              "149113   Hell's Kitchen         8\n",
              "149114   Hell's Kitchen         8\n",
              "149115   Hell's Kitchen         8\n",
              "\n",
              "[149116 rows x 2 columns]"
            ]
          },
          "execution_count": 6,
          "metadata": {},
          "output_type": "execute_result"
        }
      ],
      "source": [
        "df_coffee[['store_location','store_id']]\n",
        "\n",
        "# Hell's kitchen (8), Lower Manhattan (5), Astoria(3)"
      ]
    },
    {
      "cell_type": "code",
      "execution_count": null,
      "metadata": {
        "id": "8zhp2zF1qBck",
        "outputId": "15069c3d-39bd-4d5f-bf16-f583df95df01"
      },
      "outputs": [
        {
          "data": {
            "image/png": "[encoded data removed]",
            "text/plain": [
              "<Figure size 1000x600 with 1 Axes>"
            ]
          },
          "metadata": {},
          "output_type": "display_data"
        }
      ],
      "source": [
        "plt.figure(figsize=(10, 6))\n",
        "sns.countplot(data=df_coffee, x='store_id', hue='transaction_qty', palette='Set2')\n",
        "plt.title('Amount of sales per Store')\n",
        "plt.xlabel(\"Store ID : Astoria (3), Lower Manhattan (5), Hell's kitchen (8)\")\n",
        "plt.ylabel('Transaction Quantity')\n",
        "plt.show()"
      ]
    },
    {
      "cell_type": "markdown",
      "metadata": {
        "id": "rqWkEbT1qBck"
      },
      "source": [
        "## Explanation #2:\n",
        "\n",
        "Question: Related to the above bivariate analysis, which store is more successful?\n",
        "\n",
        "The above graph shows that the more successful store is Astoria, but the sales are usually of one product each, followed by Hell's Kitchen with a similar distribution to Astoria and Hell's Kitchen being the last with a more even distribution between 1, 2 and 3 units per sale. A quick analysis positions Astoria as the most successful store."
      ]
    },
    {
      "cell_type": "markdown",
      "metadata": {
        "id": "dUbSbRw3qBck"
      },
      "source": [
        "17. Atipic values in a DataSet"
      ]
    },
    {
      "cell_type": "code",
      "execution_count": null,
      "metadata": {
        "id": "G_gFcXfIqBck",
        "outputId": "44cb86ad-dd44-41c5-a806-92ad9310c542"
      },
      "outputs": [
        {
          "data": {
            "image/png": "[encoded data removed]",
            "text/plain": [
              "<Figure size 640x480 with 1 Axes>"
            ]
          },
          "metadata": {},
          "output_type": "display_data"
        }
      ],
      "source": [
        "sns.boxplot(x=df_coffee['transaction_qty'])\n",
        "plt.show()"
      ]
    },
    {
      "cell_type": "code",
      "execution_count": null,
      "metadata": {
        "id": "kOSht4ffqBcl",
        "outputId": "5a0956d3-b54c-4eef-8425-39ec0f5b9d54"
      },
      "outputs": [
        {
          "name": "stdout",
          "output_type": "stream",
          "text": [
            "        transaction_id transaction_date transaction_time  transaction_qty  \\\n",
            "0                    1       2023-01-01         07:06:11                2   \n",
            "1                    2       2023-01-01         07:08:56                2   \n",
            "2                    3       2023-01-01         07:14:04                2   \n",
            "3                    4       2023-01-01         07:20:24                1   \n",
            "4                    5       2023-01-01         07:22:41                2   \n",
            "...                ...              ...              ...              ...   \n",
            "149111          149452       2023-06-30         20:18:41                2   \n",
            "149112          149453       2023-06-30         20:25:10                2   \n",
            "149113          149454       2023-06-30         20:31:34                1   \n",
            "149114          149455       2023-06-30         20:57:19                1   \n",
            "149115          149456       2023-06-30         20:57:19                2   \n",
            "\n",
            "        store_id   store_location  product_id  unit_price    product_category  \\\n",
            "0              5  Lower Manhattan          32        3.00              Coffee   \n",
            "1              5  Lower Manhattan          57        3.10                 Tea   \n",
            "2              5  Lower Manhattan          59        4.50  Drinking Chocolate   \n",
            "3              5  Lower Manhattan          22        2.00              Coffee   \n",
            "4              5  Lower Manhattan          57        3.10                 Tea   \n",
            "...          ...              ...         ...         ...                 ...   \n",
            "149111         8   Hell's Kitchen          44        2.50                 Tea   \n",
            "149112         8   Hell's Kitchen          49        3.00                 Tea   \n",
            "149113         8   Hell's Kitchen          45        3.00                 Tea   \n",
            "149114         8   Hell's Kitchen          40        3.75              Coffee   \n",
            "149115         8   Hell's Kitchen          64        0.80            Flavours   \n",
            "\n",
            "                 product_type               product_detail  Outlier  \\\n",
            "0       Gourmet brewed coffee                  Ethiopia Rg    False   \n",
            "1             Brewed Chai tea     Spicy Eye Opener Chai Lg    False   \n",
            "2               Hot chocolate            Dark chocolate Lg    False   \n",
            "3                 Drip coffee  Our Old Time Diner Blend Sm    False   \n",
            "4             Brewed Chai tea     Spicy Eye Opener Chai Lg    False   \n",
            "...                       ...                          ...      ...   \n",
            "149111      Brewed herbal tea                Peppermint Rg    False   \n",
            "149112       Brewed Black tea         English Breakfast Lg    False   \n",
            "149113      Brewed herbal tea                Peppermint Lg    False   \n",
            "149114       Barista Espresso                   Cappuccino    False   \n",
            "149115          Regular syrup               Hazelnut syrup    False   \n",
            "\n",
            "        transactionQTY_log  \n",
            "0                 0.693147  \n",
            "1                 0.693147  \n",
            "2                 0.693147  \n",
            "3                 0.000000  \n",
            "4                 0.693147  \n",
            "...                    ...  \n",
            "149111            0.693147  \n",
            "149112            0.693147  \n",
            "149113            0.000000  \n",
            "149114            0.000000  \n",
            "149115            0.693147  \n",
            "\n",
            "[149116 rows x 13 columns]\n"
          ]
        }
      ],
      "source": [
        "Q1 = df_coffee['transaction_qty'].quantile(0.25)\n",
        "Q3 = df_coffee['transaction_qty'].quantile(0.75)\n",
        "\n",
        "IQR = Q3 - Q1\n",
        "\n",
        "lower_bound = Q1 - 1.5 * IQR\n",
        "upper_bound = Q3 + 1.5 * IQR\n",
        "\n",
        "df_coffee['Outlier'] = (df_coffee['transaction_qty'] < lower_bound) | (df_coffee['transaction_qty'] > upper_bound)\n",
        "print(df_coffee) #Generar nuevo gráfico"
      ]
    },
    {
      "cell_type": "markdown",
      "metadata": {
        "id": "-JwsRDOoqBcl"
      },
      "source": [
        "18. Treatment of an atypical value of the dataset"
      ]
    },
    {
      "cell_type": "code",
      "execution_count": null,
      "metadata": {
        "id": "Br8-SUYPqBcl",
        "outputId": "19ffd1ea-1098-42d5-8396-da489fd6e508"
      },
      "outputs": [
        {
          "name": "stdout",
          "output_type": "stream",
          "text": [
            "        transaction_id transaction_date transaction_time  transaction_qty  \\\n",
            "0                    1       2023-01-01         07:06:11                2   \n",
            "1                    2       2023-01-01         07:08:56                2   \n",
            "2                    3       2023-01-01         07:14:04                2   \n",
            "3                    4       2023-01-01         07:20:24                1   \n",
            "4                    5       2023-01-01         07:22:41                2   \n",
            "...                ...              ...              ...              ...   \n",
            "149111          149452       2023-06-30         20:18:41                2   \n",
            "149112          149453       2023-06-30         20:25:10                2   \n",
            "149113          149454       2023-06-30         20:31:34                1   \n",
            "149114          149455       2023-06-30         20:57:19                1   \n",
            "149115          149456       2023-06-30         20:57:19                2   \n",
            "\n",
            "        store_id   store_location  product_id  unit_price    product_category  \\\n",
            "0              5  Lower Manhattan          32        3.00              Coffee   \n",
            "1              5  Lower Manhattan          57        3.10                 Tea   \n",
            "2              5  Lower Manhattan          59        4.50  Drinking Chocolate   \n",
            "3              5  Lower Manhattan          22        2.00              Coffee   \n",
            "4              5  Lower Manhattan          57        3.10                 Tea   \n",
            "...          ...              ...         ...         ...                 ...   \n",
            "149111         8   Hell's Kitchen          44        2.50                 Tea   \n",
            "149112         8   Hell's Kitchen          49        3.00                 Tea   \n",
            "149113         8   Hell's Kitchen          45        3.00                 Tea   \n",
            "149114         8   Hell's Kitchen          40        3.75              Coffee   \n",
            "149115         8   Hell's Kitchen          64        0.80            Flavours   \n",
            "\n",
            "                 product_type               product_detail  Outlier  \n",
            "0       Gourmet brewed coffee                  Ethiopia Rg    False  \n",
            "1             Brewed Chai tea     Spicy Eye Opener Chai Lg    False  \n",
            "2               Hot chocolate            Dark chocolate Lg    False  \n",
            "3                 Drip coffee  Our Old Time Diner Blend Sm    False  \n",
            "4             Brewed Chai tea     Spicy Eye Opener Chai Lg    False  \n",
            "...                       ...                          ...      ...  \n",
            "149111      Brewed herbal tea                Peppermint Rg    False  \n",
            "149112       Brewed Black tea         English Breakfast Lg    False  \n",
            "149113      Brewed herbal tea                Peppermint Lg    False  \n",
            "149114       Barista Espresso                   Cappuccino    False  \n",
            "149115          Regular syrup               Hazelnut syrup    False  \n",
            "\n",
            "[149116 rows x 12 columns]\n",
            "        transaction_id transaction_date transaction_time  transaction_qty  \\\n",
            "0                    1       2023-01-01         07:06:11                2   \n",
            "1                    2       2023-01-01         07:08:56                2   \n",
            "2                    3       2023-01-01         07:14:04                2   \n",
            "3                    4       2023-01-01         07:20:24                1   \n",
            "4                    5       2023-01-01         07:22:41                2   \n",
            "...                ...              ...              ...              ...   \n",
            "149111          149452       2023-06-30         20:18:41                2   \n",
            "149112          149453       2023-06-30         20:25:10                2   \n",
            "149113          149454       2023-06-30         20:31:34                1   \n",
            "149114          149455       2023-06-30         20:57:19                1   \n",
            "149115          149456       2023-06-30         20:57:19                2   \n",
            "\n",
            "        store_id   store_location  product_id  unit_price    product_category  \\\n",
            "0              5  Lower Manhattan          32        3.00              Coffee   \n",
            "1              5  Lower Manhattan          57        3.10                 Tea   \n",
            "2              5  Lower Manhattan          59        4.50  Drinking Chocolate   \n",
            "3              5  Lower Manhattan          22        2.00              Coffee   \n",
            "4              5  Lower Manhattan          57        3.10                 Tea   \n",
            "...          ...              ...         ...         ...                 ...   \n",
            "149111         8   Hell's Kitchen          44        2.50                 Tea   \n",
            "149112         8   Hell's Kitchen          49        3.00                 Tea   \n",
            "149113         8   Hell's Kitchen          45        3.00                 Tea   \n",
            "149114         8   Hell's Kitchen          40        3.75              Coffee   \n",
            "149115         8   Hell's Kitchen          64        0.80            Flavours   \n",
            "\n",
            "                 product_type               product_detail  Outlier  \\\n",
            "0       Gourmet brewed coffee                  Ethiopia Rg    False   \n",
            "1             Brewed Chai tea     Spicy Eye Opener Chai Lg    False   \n",
            "2               Hot chocolate            Dark chocolate Lg    False   \n",
            "3                 Drip coffee  Our Old Time Diner Blend Sm    False   \n",
            "4             Brewed Chai tea     Spicy Eye Opener Chai Lg    False   \n",
            "...                       ...                          ...      ...   \n",
            "149111      Brewed herbal tea                Peppermint Rg    False   \n",
            "149112       Brewed Black tea         English Breakfast Lg    False   \n",
            "149113      Brewed herbal tea                Peppermint Lg    False   \n",
            "149114       Barista Espresso                   Cappuccino    False   \n",
            "149115          Regular syrup               Hazelnut syrup    False   \n",
            "\n",
            "        transactionQTY_log  \n",
            "0                 0.693147  \n",
            "1                 0.693147  \n",
            "2                 0.693147  \n",
            "3                 0.000000  \n",
            "4                 0.693147  \n",
            "...                    ...  \n",
            "149111            0.693147  \n",
            "149112            0.693147  \n",
            "149113            0.000000  \n",
            "149114            0.000000  \n",
            "149115            0.693147  \n",
            "\n",
            "[149116 rows x 13 columns]\n"
          ]
        }
      ],
      "source": [
        "# Logaritmic transformation of the data with Numphy\n",
        "df_coffee['transactionQTY_log'] = np.log(df_coffee['transaction_qty'])\n",
        "print(df_coffee)\n"
      ]
    }
  ],
  "metadata": {
    "kernelspec": {
      "display_name": "Python 3",
      "language": "python",
      "name": "python3"
    },
    "language_info": {
      "codemirror_mode": {
        "name": "ipython",
        "version": 3
      },
      "file_extension": ".py",
      "mimetype": "text/x-python",
      "name": "python",
      "nbconvert_exporter": "python",
      "pygments_lexer": "ipython3",
      "version": "3.13.1"
    },
    "colab": {
      "provenance": []
    }
  },
  "nbformat": 4,
  "nbformat_minor": 0
}