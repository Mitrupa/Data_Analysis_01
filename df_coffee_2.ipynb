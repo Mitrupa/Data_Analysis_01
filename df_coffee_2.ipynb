{
  "cells": [
    {
      "cell_type": "markdown",
      "metadata": {
        "id": "fZeaZc2gNzLP"
      },
      "source": [
        "1. Load in a DataFrame the file `Coffee Shop Sales.xlsx`."
      ]
    },
    {
      "cell_type": "code",
      "execution_count": null,
      "metadata": {
        "id": "G-Ayf3e0NzLS"
      },
      "outputs": [],
      "source": [
        "import numpy as np\n",
        "import pandas as pd\n",
        "import matplotlib.pyplot as plt\n",
        "import seaborn as sns\n",
        "\n",
        "import warnings\n",
        "warnings.filterwarnings(\"ignore\")"
      ]
    },
    {
      "cell_type": "code",
      "execution_count": null,
      "metadata": {
        "id": "rKfaDGaKNzLT",
        "outputId": "0cd65d3b-559c-49c0-dfb9-82e055202941"
      },
      "outputs": [
        {
          "name": "stdout",
          "output_type": "stream",
          "text": [
            "Requirement already satisfied: openpyxl in c:\\users\\mitru\\appdata\\local\\programs\\python\\python313\\lib\\site-packages (3.1.5)Note: you may need to restart the kernel to use updated packages.\n",
            "\n",
            "Requirement already satisfied: et-xmlfile in c:\\users\\mitru\\appdata\\local\\programs\\python\\python313\\lib\\site-packages (from openpyxl) (2.0.0)\n"
          ]
        }
      ],
      "source": [
        "pip install openpyxl"
      ]
    },
    {
      "cell_type": "markdown",
      "metadata": {
        "id": "h7wSJMhENzLV"
      },
      "source": [
        "2. Display the columns of the DataFrame."
      ]
    },
    {
      "cell_type": "code",
      "execution_count": null,
      "metadata": {
        "id": "6LnAvuHwNzLV",
        "outputId": "2a919fb0-2547-45f5-b8b6-c5299ee05be3"
      },
      "outputs": [
        {
          "data": {
            "text/html": [
              "<div>\n",
              "<style scoped>\n",
              "    .dataframe tbody tr th:only-of-type {\n",
              "        vertical-align: middle;\n",
              "    }\n",
              "\n",
              "    .dataframe tbody tr th {\n",
              "        vertical-align: top;\n",
              "    }\n",
              "\n",
              "    .dataframe thead th {\n",
              "        text-align: right;\n",
              "    }\n",
              "</style>\n",
              "<table border=\"1\" class=\"dataframe\">\n",
              "  <thead>\n",
              "    <tr style=\"text-align: right;\">\n",
              "      <th></th>\n",
              "      <th>transaction_id</th>\n",
              "      <th>transaction_date</th>\n",
              "      <th>transaction_time</th>\n",
              "      <th>transaction_qty</th>\n",
              "      <th>store_id</th>\n",
              "      <th>store_location</th>\n",
              "      <th>product_id</th>\n",
              "      <th>unit_price</th>\n",
              "      <th>product_category</th>\n",
              "      <th>product_type</th>\n",
              "      <th>product_detail</th>\n",
              "    </tr>\n",
              "  </thead>\n",
              "  <tbody>\n",
              "    <tr>\n",
              "      <th>0</th>\n",
              "      <td>1</td>\n",
              "      <td>2023-01-01</td>\n",
              "      <td>07:06:11</td>\n",
              "      <td>2</td>\n",
              "      <td>5</td>\n",
              "      <td>Lower Manhattan</td>\n",
              "      <td>32</td>\n",
              "      <td>3.0</td>\n",
              "      <td>Coffee</td>\n",
              "      <td>Gourmet brewed coffee</td>\n",
              "      <td>Ethiopia Rg</td>\n",
              "    </tr>\n",
              "    <tr>\n",
              "      <th>1</th>\n",
              "      <td>2</td>\n",
              "      <td>2023-01-01</td>\n",
              "      <td>07:08:56</td>\n",
              "      <td>2</td>\n",
              "      <td>5</td>\n",
              "      <td>Lower Manhattan</td>\n",
              "      <td>57</td>\n",
              "      <td>3.1</td>\n",
              "      <td>Tea</td>\n",
              "      <td>Brewed Chai tea</td>\n",
              "      <td>Spicy Eye Opener Chai Lg</td>\n",
              "    </tr>\n",
              "    <tr>\n",
              "      <th>2</th>\n",
              "      <td>3</td>\n",
              "      <td>2023-01-01</td>\n",
              "      <td>07:14:04</td>\n",
              "      <td>2</td>\n",
              "      <td>5</td>\n",
              "      <td>Lower Manhattan</td>\n",
              "      <td>59</td>\n",
              "      <td>4.5</td>\n",
              "      <td>Drinking Chocolate</td>\n",
              "      <td>Hot chocolate</td>\n",
              "      <td>Dark chocolate Lg</td>\n",
              "    </tr>\n",
              "    <tr>\n",
              "      <th>3</th>\n",
              "      <td>4</td>\n",
              "      <td>2023-01-01</td>\n",
              "      <td>07:20:24</td>\n",
              "      <td>1</td>\n",
              "      <td>5</td>\n",
              "      <td>Lower Manhattan</td>\n",
              "      <td>22</td>\n",
              "      <td>2.0</td>\n",
              "      <td>Coffee</td>\n",
              "      <td>Drip coffee</td>\n",
              "      <td>Our Old Time Diner Blend Sm</td>\n",
              "    </tr>\n",
              "    <tr>\n",
              "      <th>4</th>\n",
              "      <td>5</td>\n",
              "      <td>2023-01-01</td>\n",
              "      <td>07:22:41</td>\n",
              "      <td>2</td>\n",
              "      <td>5</td>\n",
              "      <td>Lower Manhattan</td>\n",
              "      <td>57</td>\n",
              "      <td>3.1</td>\n",
              "      <td>Tea</td>\n",
              "      <td>Brewed Chai tea</td>\n",
              "      <td>Spicy Eye Opener Chai Lg</td>\n",
              "    </tr>\n",
              "  </tbody>\n",
              "</table>\n",
              "</div>"
            ],
            "text/plain": [
              "   transaction_id transaction_date transaction_time  transaction_qty  \\\n",
              "0               1       2023-01-01         07:06:11                2   \n",
              "1               2       2023-01-01         07:08:56                2   \n",
              "2               3       2023-01-01         07:14:04                2   \n",
              "3               4       2023-01-01         07:20:24                1   \n",
              "4               5       2023-01-01         07:22:41                2   \n",
              "\n",
              "   store_id   store_location  product_id  unit_price    product_category  \\\n",
              "0         5  Lower Manhattan          32         3.0              Coffee   \n",
              "1         5  Lower Manhattan          57         3.1                 Tea   \n",
              "2         5  Lower Manhattan          59         4.5  Drinking Chocolate   \n",
              "3         5  Lower Manhattan          22         2.0              Coffee   \n",
              "4         5  Lower Manhattan          57         3.1                 Tea   \n",
              "\n",
              "            product_type               product_detail  \n",
              "0  Gourmet brewed coffee                  Ethiopia Rg  \n",
              "1        Brewed Chai tea     Spicy Eye Opener Chai Lg  \n",
              "2          Hot chocolate            Dark chocolate Lg  \n",
              "3            Drip coffee  Our Old Time Diner Blend Sm  \n",
              "4        Brewed Chai tea     Spicy Eye Opener Chai Lg  "
            ]
          },
          "execution_count": 4,
          "metadata": {},
          "output_type": "execute_result"
        }
      ],
      "source": [
        "df_coffee = pd.read_excel(\"01.datasets/Coffee Shop Sales.xlsx\")\n",
        "df_coffee.head(5)"
      ]
    },
    {
      "cell_type": "code",
      "execution_count": null,
      "metadata": {
        "id": "ZMNNNg_3NzLW",
        "outputId": "7db5043a-c776-42ad-ee91-0769bc21ffcb"
      },
      "outputs": [
        {
          "data": {
            "text/plain": [
              "Index(['transaction_id', 'transaction_date', 'transaction_time',\n",
              "       'transaction_qty', 'store_id', 'store_location', 'product_id',\n",
              "       'unit_price', 'product_category', 'product_type', 'product_detail'],\n",
              "      dtype='object')"
            ]
          },
          "execution_count": 6,
          "metadata": {},
          "output_type": "execute_result"
        }
      ],
      "source": [
        "df_coffee.columns"
      ]
    },
    {
      "cell_type": "markdown",
      "metadata": {
        "id": "JGDFGA4hNzLW"
      },
      "source": [
        "3. Review the information and description of the DataSet."
      ]
    },
    {
      "cell_type": "code",
      "execution_count": null,
      "metadata": {
        "id": "wsV17tQ5NzLW",
        "outputId": "a620d654-9b78-4cb2-8c8d-33f74d1cb236"
      },
      "outputs": [
        {
          "name": "stdout",
          "output_type": "stream",
          "text": [
            "<class 'pandas.core.frame.DataFrame'>\n",
            "RangeIndex: 149116 entries, 0 to 149115\n",
            "Data columns (total 11 columns):\n",
            " #   Column            Non-Null Count   Dtype         \n",
            "---  ------            --------------   -----         \n",
            " 0   transaction_id    149116 non-null  int64         \n",
            " 1   transaction_date  149100 non-null  datetime64[ns]\n",
            " 2   transaction_time  149101 non-null  object        \n",
            " 3   transaction_qty   149116 non-null  int64         \n",
            " 4   store_id          149116 non-null  int64         \n",
            " 5   store_location    149100 non-null  object        \n",
            " 6   product_id        149116 non-null  int64         \n",
            " 7   unit_price        149116 non-null  float64       \n",
            " 8   product_category  149115 non-null  object        \n",
            " 9   product_type      149116 non-null  object        \n",
            " 10  product_detail    149097 non-null  object        \n",
            "dtypes: datetime64[ns](1), float64(1), int64(4), object(5)\n",
            "memory usage: 12.5+ MB\n"
          ]
        }
      ],
      "source": [
        "df_coffee.info()"
      ]
    },
    {
      "cell_type": "code",
      "execution_count": null,
      "metadata": {
        "id": "V2GYLhLYNzLX",
        "outputId": "4fd486fd-43c5-4c2d-cc19-c9b2a03965cd"
      },
      "outputs": [
        {
          "data": {
            "text/html": [
              "<div>\n",
              "<style scoped>\n",
              "    .dataframe tbody tr th:only-of-type {\n",
              "        vertical-align: middle;\n",
              "    }\n",
              "\n",
              "    .dataframe tbody tr th {\n",
              "        vertical-align: top;\n",
              "    }\n",
              "\n",
              "    .dataframe thead th {\n",
              "        text-align: right;\n",
              "    }\n",
              "</style>\n",
              "<table border=\"1\" class=\"dataframe\">\n",
              "  <thead>\n",
              "    <tr style=\"text-align: right;\">\n",
              "      <th></th>\n",
              "      <th>transaction_id</th>\n",
              "      <th>transaction_date</th>\n",
              "      <th>transaction_qty</th>\n",
              "      <th>store_id</th>\n",
              "      <th>product_id</th>\n",
              "      <th>unit_price</th>\n",
              "    </tr>\n",
              "  </thead>\n",
              "  <tbody>\n",
              "    <tr>\n",
              "      <th>count</th>\n",
              "      <td>149116.000000</td>\n",
              "      <td>149100</td>\n",
              "      <td>149116.000000</td>\n",
              "      <td>149116.000000</td>\n",
              "      <td>149116.000000</td>\n",
              "      <td>149116.000000</td>\n",
              "    </tr>\n",
              "    <tr>\n",
              "      <th>mean</th>\n",
              "      <td>74737.371872</td>\n",
              "      <td>2023-04-15 11:57:05.577465088</td>\n",
              "      <td>1.438276</td>\n",
              "      <td>5.342063</td>\n",
              "      <td>47.918607</td>\n",
              "      <td>3.382219</td>\n",
              "    </tr>\n",
              "    <tr>\n",
              "      <th>min</th>\n",
              "      <td>1.000000</td>\n",
              "      <td>2023-01-01 00:00:00</td>\n",
              "      <td>1.000000</td>\n",
              "      <td>3.000000</td>\n",
              "      <td>1.000000</td>\n",
              "      <td>0.800000</td>\n",
              "    </tr>\n",
              "    <tr>\n",
              "      <th>25%</th>\n",
              "      <td>37335.750000</td>\n",
              "      <td>2023-03-06 00:00:00</td>\n",
              "      <td>1.000000</td>\n",
              "      <td>3.000000</td>\n",
              "      <td>33.000000</td>\n",
              "      <td>2.500000</td>\n",
              "    </tr>\n",
              "    <tr>\n",
              "      <th>50%</th>\n",
              "      <td>74727.500000</td>\n",
              "      <td>2023-04-24 00:00:00</td>\n",
              "      <td>1.000000</td>\n",
              "      <td>5.000000</td>\n",
              "      <td>47.000000</td>\n",
              "      <td>3.000000</td>\n",
              "    </tr>\n",
              "    <tr>\n",
              "      <th>75%</th>\n",
              "      <td>112094.250000</td>\n",
              "      <td>2023-05-30 00:00:00</td>\n",
              "      <td>2.000000</td>\n",
              "      <td>8.000000</td>\n",
              "      <td>60.000000</td>\n",
              "      <td>3.750000</td>\n",
              "    </tr>\n",
              "    <tr>\n",
              "      <th>max</th>\n",
              "      <td>149456.000000</td>\n",
              "      <td>2023-06-30 00:00:00</td>\n",
              "      <td>8.000000</td>\n",
              "      <td>8.000000</td>\n",
              "      <td>87.000000</td>\n",
              "      <td>45.000000</td>\n",
              "    </tr>\n",
              "    <tr>\n",
              "      <th>std</th>\n",
              "      <td>43153.600016</td>\n",
              "      <td>NaN</td>\n",
              "      <td>0.542509</td>\n",
              "      <td>2.074241</td>\n",
              "      <td>17.930020</td>\n",
              "      <td>2.658723</td>\n",
              "    </tr>\n",
              "  </tbody>\n",
              "</table>\n",
              "</div>"
            ],
            "text/plain": [
              "       transaction_id               transaction_date  transaction_qty  \\\n",
              "count   149116.000000                         149100    149116.000000   \n",
              "mean     74737.371872  2023-04-15 11:57:05.577465088         1.438276   \n",
              "min          1.000000            2023-01-01 00:00:00         1.000000   \n",
              "25%      37335.750000            2023-03-06 00:00:00         1.000000   \n",
              "50%      74727.500000            2023-04-24 00:00:00         1.000000   \n",
              "75%     112094.250000            2023-05-30 00:00:00         2.000000   \n",
              "max     149456.000000            2023-06-30 00:00:00         8.000000   \n",
              "std      43153.600016                            NaN         0.542509   \n",
              "\n",
              "            store_id     product_id     unit_price  \n",
              "count  149116.000000  149116.000000  149116.000000  \n",
              "mean        5.342063      47.918607       3.382219  \n",
              "min         3.000000       1.000000       0.800000  \n",
              "25%         3.000000      33.000000       2.500000  \n",
              "50%         5.000000      47.000000       3.000000  \n",
              "75%         8.000000      60.000000       3.750000  \n",
              "max         8.000000      87.000000      45.000000  \n",
              "std         2.074241      17.930020       2.658723  "
            ]
          },
          "execution_count": 8,
          "metadata": {},
          "output_type": "execute_result"
        }
      ],
      "source": [
        "df_coffee.describe()"
      ]
    },
    {
      "cell_type": "markdown",
      "metadata": {
        "id": "9GaFemt6NzLX"
      },
      "source": [
        "4. Show which is the best selling product category (`product_category`)."
      ]
    },
    {
      "cell_type": "code",
      "execution_count": null,
      "metadata": {
        "id": "Fy0yqIVONzLX",
        "outputId": "aba34f6d-c062-4d50-d82c-a354a9ebdb5b"
      },
      "outputs": [
        {
          "name": "stdout",
          "output_type": "stream",
          "text": [
            "The most sold category is: 'Coffee' with 58416 of sales.\n"
          ]
        }
      ],
      "source": [
        "# Step 1: Group by 'product_category' and count the sales\n",
        "sales_per_category = df_coffee['product_category'].value_counts()\n",
        "\n",
        "# Step 2: Find the most saled category\n",
        "most_sold_category = sales_per_category.idxmax()  # Show the category with the maximum amount of sales\n",
        "total_of_sales = sales_per_category.max()  # Display the maximum number of sales\n",
        "\n",
        "print(f\"The most sold category is: '{most_sold_category}' with {total_of_sales} of sales.\")"
      ]
    },
    {
      "cell_type": "markdown",
      "metadata": {
        "id": "kiJIcKfuNzLY"
      },
      "source": [
        "5. Plot the above quantities."
      ]
    },
    {
      "cell_type": "code",
      "execution_count": null,
      "metadata": {
        "id": "Dh1m6QehNzLY",
        "outputId": "03dcebb6-a5d8-4014-d1fc-5203884f8f32"
      },
      "outputs": [
        {
          "data": {
            "image/png": "[encoded data removed]",
            "text/plain": [
              "<Figure size 2000x800 with 1 Axes>"
            ]
          },
          "metadata": {},
          "output_type": "display_data"
        }
      ],
      "source": [
        "plt.figure(figsize=(20, 8))\n",
        "sns.countplot(data=df_coffee, x='product_category', palette='Set2')\n",
        "plt.title('Most sold product category')\n",
        "plt.xlabel('Product Category')\n",
        "plt.ylabel('Total of sales')\n",
        "plt.show()"
      ]
    },
    {
      "cell_type": "markdown",
      "metadata": {
        "id": "yhi4hJ20NzLZ"
      },
      "source": [
        "6. Show which is the best selling product (`product_detail`)."
      ]
    },
    {
      "cell_type": "code",
      "execution_count": null,
      "metadata": {
        "id": "lBZBzrd6NzLZ",
        "outputId": "c61d4124-e6b3-407f-c790-4f732776cd48"
      },
      "outputs": [
        {
          "data": {
            "text/plain": [
              "array(['Ethiopia Rg', 'Spicy Eye Opener Chai Lg', 'Dark chocolate Lg',\n",
              "       'Our Old Time Diner Blend Sm', 'Oatmeal Scone',\n",
              "       'Columbian Medium Roast Sm', 'Latte Rg', 'Dark chocolate Rg',\n",
              "       'Spicy Eye Opener Chai Rg', 'Ethiopia Lg', 'Earl Grey Lg',\n",
              "       'Ouro Brasileiro shot', 'Serenity Green Tea Lg',\n",
              "       'Jumbo Savory Scone', 'Lemon Grass Rg',\n",
              "       'Sustainably Grown Organic Lg', 'Hazelnut Biscotti', 'Cappuccino',\n",
              "       'Lemon Grass Lg', 'Chocolate Chip Biscotti', 'Peppermint Lg',\n",
              "       'Chocolate Croissant', 'Latte', 'Brazilian Rg', 'Brazilian Lg',\n",
              "       'Columbian Medium Roast Rg', 'Morning Sunrise Chai Rg',\n",
              "       'Morning Sunrise Chai Lg', 'Our Old Time Diner Blend Lg',\n",
              "       'Sustainably Grown Organic Rg', 'Scottish Cream Scone ',\n",
              "       'Peppermint Rg', 'English Breakfast Rg',\n",
              "       'Our Old Time Diner Blend Rg', 'Serenity Green Tea Rg',\n",
              "       'Brazilian Sm', 'Jamaican Coffee River Sm',\n",
              "       'Jamaican Coffee River Lg', 'Ginger Biscotti',\n",
              "       'Traditional Blend Chai Lg', 'Cappuccino Lg', 'Espresso shot',\n",
              "       'Earl Grey Rg', 'Ginger Scone', 'Jamaican Coffee River Rg',\n",
              "       'Cranberry Scone', 'Almond Croissant', 'Croissant', 'Ethiopia Sm',\n",
              "       'English Breakfast Lg', 'Traditional Blend Chai Rg',\n",
              "       'Columbian Medium Roast Lg', nan, 'Hazelnut syrup', 'Peppermint',\n",
              "       'Carmel syrup', 'Ethiopia', 'Organic Decaf Blend',\n",
              "       'Sugar Free Vanilla syrup', 'Chocolate syrup', 'Dark chocolate',\n",
              "       'Jamacian Coffee River', 'Brazilian - Organic',\n",
              "       'Morning Sunrise Chai', 'Guatemalan Sustainably Grown',\n",
              "       'Primo Espresso Roast', 'Serenity Green Tea',\n",
              "       'Traditional Blend Chai', 'Espresso Roast',\n",
              "       'Sustainably Grown Organic', 'I Need My Bean! Latte cup',\n",
              "       'Spicy Eye Opener Chai', 'Chili Mayan', 'English Breakfast',\n",
              "       'Lemon Grass', 'Columbian Medium Roast',\n",
              "       'Our Old Time Diner Blend', 'I Need My Bean! T-shirt', 'Earl Grey',\n",
              "       'Civet Cat', 'I Need My Bean! Diner mug'], dtype=object)"
            ]
          },
          "execution_count": 32,
          "metadata": {},
          "output_type": "execute_result"
        }
      ],
      "source": [
        "df_coffee['product_detail'].unique()"
      ]
    },
    {
      "cell_type": "code",
      "execution_count": null,
      "metadata": {
        "id": "3AZM6mWONzLZ",
        "outputId": "4f88ffec-72ab-4039-d3f6-878865ea93e2"
      },
      "outputs": [
        {
          "name": "stdout",
          "output_type": "stream",
          "text": [
            "The most sold product is: 'Chocolate Croissant' with 3076 of sales.\n"
          ]
        }
      ],
      "source": [
        "sales_per_product_detail = df_coffee['product_detail'].value_counts()\n",
        "\n",
        "most_sold_product_detail = sales_per_product_detail.idxmax()\n",
        "total_of_sales_product_detail = sales_per_product_detail.max()\n",
        "\n",
        "print(f\"The most sold product is: '{most_sold_product_detail}' with {total_of_sales_product_detail} of sales.\")\n"
      ]
    },
    {
      "cell_type": "markdown",
      "metadata": {
        "id": "l370mWF2NzLa"
      },
      "source": [
        "7. Show a count of products per category, i.e. how many products each category has."
      ]
    },
    {
      "cell_type": "code",
      "execution_count": null,
      "metadata": {
        "id": "fgL2pcJeNzLa",
        "outputId": "e953ab57-0acc-42d9-d5f9-744bfe09cc71"
      },
      "outputs": [
        {
          "name": "stdout",
          "output_type": "stream",
          "text": [
            "The number of products by category is:\n",
            "product_category    product_detail              \n",
            "Bakery              Chocolate Croissant             3076\n",
            "                    Ginger Scone                    2324\n",
            "                    Cranberry Scone                 2076\n",
            "                    Hazelnut Biscotti               2009\n",
            "                    Jumbo Savory Scone              2007\n",
            "                    Scottish Cream Scone            1952\n",
            "                    Croissant                       1933\n",
            "                    Almond Croissant                1903\n",
            "                    Chocolate Chip Biscotti         1891\n",
            "                    Oatmeal Scone                   1812\n",
            "                    Ginger Biscotti                 1811\n",
            "Branded             I Need My Bean! Latte cup        304\n",
            "                    I Need My Bean! Diner mug        222\n",
            "                    I Need My Bean! T-shirt          221\n",
            "Coffee              Columbian Medium Roast Rg       3013\n",
            "                    Latte                           2989\n",
            "                    Our Old Time Diner Blend Sm     2918\n",
            "                    Jamaican Coffee River Lg        2911\n",
            "                    Brazilian Rg                    2904\n",
            "                    Latte Rg                        2895\n",
            "                    Our Old Time Diner Blend Rg     2892\n",
            "                    Ethiopia Rg                     2865\n",
            "                    Ethiopia Sm                     2833\n",
            "                    Brazilian Sm                    2811\n",
            "                    Cappuccino                      2793\n",
            "                    Brazilian Lg                    2771\n",
            "                    Cappuccino Lg                   2771\n",
            "                    Ethiopia Lg                     2741\n",
            "                    Columbian Medium Roast Lg       2731\n",
            "                    Espresso shot                   2730\n",
            "                    Columbian Medium Roast Sm       2728\n",
            "                    Our Old Time Diner Blend Lg     2663\n",
            "                    Jamaican Coffee River Sm        2629\n",
            "                    Jamaican Coffee River Rg        2594\n",
            "                    Ouro Brasileiro shot            2221\n",
            "Coffee beans        Ethiopia                         218\n",
            "                    Brazilian - Organic              209\n",
            "                    Organic Decaf Blend              206\n",
            "                    Civet Cat                        190\n",
            "                    Our Old Time Diner Blend         183\n",
            "                    Espresso Roast                   169\n",
            "                    Primo Espresso Roast             150\n",
            "                    Columbian Medium Roast           148\n",
            "                    Jamacian Coffee River            146\n",
            "                    Guatemalan Sustainably Grown     134\n",
            "Drinking Chocolate  Dark chocolate Lg               3029\n",
            "                    Sustainably Grown Organic Lg    2959\n",
            "                    Sustainably Grown Organic Rg    2841\n",
            "                    Dark chocolate Rg               2636\n",
            "Flavours            Sugar Free Vanilla syrup        1811\n",
            "                    Chocolate syrup                 1733\n",
            "                    Carmel syrup                    1725\n",
            "                    Hazelnut syrup                  1521\n",
            "Loose Tea           Morning Sunrise Chai             168\n",
            "                    English Breakfast                161\n",
            "                    Serenity Green Tea               159\n",
            "                    Peppermint                       153\n",
            "                    Traditional Blend Chai           153\n",
            "                    Lemon Grass                      152\n",
            "                    Earl Grey                        142\n",
            "                    Spicy Eye Opener Chai            122\n",
            "Packaged Chocolate  Sustainably Grown Organic        221\n",
            "                    Chili Mayan                      148\n",
            "                    Dark chocolate                   118\n",
            "Tea                 Earl Grey Rg                    3051\n",
            "                    Morning Sunrise Chai Rg         3026\n",
            "                    Traditional Blend Chai Rg       2955\n",
            "                    Spicy Eye Opener Chai Lg        2951\n",
            "                    Peppermint Rg                   2949\n",
            "                    Serenity Green Tea Rg           2921\n",
            "                    Peppermint Lg                   2857\n",
            "                    English Breakfast Lg            2852\n",
            "                    Morning Sunrise Chai Lg         2830\n",
            "                    Lemon Grass Rg                  2792\n",
            "                    Serenity Green Tea Lg           2750\n",
            "                    English Breakfast Rg            2743\n",
            "                    Traditional Blend Chai Lg       2716\n",
            "                    Spicy Eye Opener Chai Rg        2705\n",
            "                    Earl Grey Lg                    2702\n",
            "                    Lemon Grass Lg                  2647\n",
            "Name: count, dtype: int64\n"
          ]
        }
      ],
      "source": [
        "pd.set_option('display.max_rows', None)\n",
        "products_by_category = df_coffee.groupby('product_category')['product_detail'].value_counts()\n",
        "\n",
        "print(f\"The number of products by category is:\\n{products_by_category}\")"
      ]
    },
    {
      "cell_type": "markdown",
      "metadata": {
        "id": "Ub5kqd4jNzLa"
      },
      "source": [
        "8. Determine which is the `store_location` with the most sales."
      ]
    },
    {
      "cell_type": "code",
      "execution_count": null,
      "metadata": {
        "id": "mUTV-BU7NzLa",
        "outputId": "8f3b575b-03f8-4b7e-d868-ac0da586539e"
      },
      "outputs": [
        {
          "data": {
            "text/html": [
              "<div>\n",
              "<style scoped>\n",
              "    .dataframe tbody tr th:only-of-type {\n",
              "        vertical-align: middle;\n",
              "    }\n",
              "\n",
              "    .dataframe tbody tr th {\n",
              "        vertical-align: top;\n",
              "    }\n",
              "\n",
              "    .dataframe thead th {\n",
              "        text-align: right;\n",
              "    }\n",
              "</style>\n",
              "<table border=\"1\" class=\"dataframe\">\n",
              "  <thead>\n",
              "    <tr style=\"text-align: right;\">\n",
              "      <th></th>\n",
              "      <th>transaction_id</th>\n",
              "      <th>transaction_date</th>\n",
              "      <th>transaction_time</th>\n",
              "      <th>transaction_qty</th>\n",
              "      <th>store_id</th>\n",
              "      <th>store_location</th>\n",
              "      <th>product_id</th>\n",
              "      <th>unit_price</th>\n",
              "      <th>product_category</th>\n",
              "      <th>product_type</th>\n",
              "      <th>product_detail</th>\n",
              "      <th>hour</th>\n",
              "      <th>round_hour</th>\n",
              "      <th>transaction_total</th>\n",
              "    </tr>\n",
              "  </thead>\n",
              "  <tbody>\n",
              "    <tr>\n",
              "      <th>0</th>\n",
              "      <td>1</td>\n",
              "      <td>2023-01-01</td>\n",
              "      <td>07:06:11</td>\n",
              "      <td>2</td>\n",
              "      <td>5</td>\n",
              "      <td>Lower Manhattan</td>\n",
              "      <td>32</td>\n",
              "      <td>3.0</td>\n",
              "      <td>Coffee</td>\n",
              "      <td>Gourmet brewed coffee</td>\n",
              "      <td>Ethiopia Rg</td>\n",
              "      <td>1900-01-01 07:06:11</td>\n",
              "      <td>7.0</td>\n",
              "      <td>6.0</td>\n",
              "    </tr>\n",
              "  </tbody>\n",
              "</table>\n",
              "</div>"
            ],
            "text/plain": [
              "   transaction_id transaction_date transaction_time  transaction_qty  \\\n",
              "0               1       2023-01-01         07:06:11                2   \n",
              "\n",
              "   store_id   store_location  product_id  unit_price product_category  \\\n",
              "0         5  Lower Manhattan          32         3.0           Coffee   \n",
              "\n",
              "            product_type product_detail                hour  round_hour  \\\n",
              "0  Gourmet brewed coffee    Ethiopia Rg 1900-01-01 07:06:11         7.0   \n",
              "\n",
              "   transaction_total  \n",
              "0                6.0  "
            ]
          },
          "execution_count": 43,
          "metadata": {},
          "output_type": "execute_result"
        }
      ],
      "source": [
        "df_coffee['transaction_total'] = df_coffee['transaction_qty']* df_coffee['unit_price']\n",
        "df_coffee.head(1)"
      ]
    },
    {
      "cell_type": "code",
      "execution_count": null,
      "metadata": {
        "id": "_AV6jADUNzLb",
        "outputId": "3251e6ab-8fbe-4494-d65b-5236f4ab92e1"
      },
      "outputs": [
        {
          "name": "stdout",
          "output_type": "stream",
          "text": [
            "The store location with more sales is:'Hell's Kitchen' with: 236474.87\n"
          ]
        }
      ],
      "source": [
        "store_location_sales = df_coffee.groupby('store_location')['transaction_total'].sum()\n",
        "\n",
        "store_with_most_sales = store_location_sales.idxmax()\n",
        "total_sales = store_location_sales.max()\n",
        "\n",
        "print(f\"The store location with more sales is:'{store_with_most_sales}' with: {total_sales}\")"
      ]
    },
    {
      "cell_type": "markdown",
      "metadata": {
        "id": "h4au4fUWNzLb"
      },
      "source": [
        "9. Plot the above quantities."
      ]
    },
    {
      "cell_type": "code",
      "execution_count": null,
      "metadata": {
        "id": "PFUQwd4CNzLb",
        "outputId": "fa397563-d84e-4853-f256-32cee5318198"
      },
      "outputs": [
        {
          "data": {
            "image/png": "[encoded data removed]",
            "text/plain": [
              "<Figure size 1200x800 with 1 Axes>"
            ]
          },
          "metadata": {},
          "output_type": "display_data"
        }
      ],
      "source": [
        "plt.figure(figsize=(12, 8))\n",
        "sns.countplot(data=df_coffee, x='store_location', palette='Set2')\n",
        "plt.title('Sales according to the location')\n",
        "plt.xlabel('Store Location')\n",
        "plt.ylabel('Transactions')\n",
        "plt.show()\n"
      ]
    },
    {
      "cell_type": "markdown",
      "metadata": {
        "id": "8BgXEpU0NzLb"
      },
      "source": [
        "10. Determine the average, maximum value, minimum value and total sales for each store or `store_location`."
      ]
    },
    {
      "cell_type": "code",
      "execution_count": null,
      "metadata": {
        "id": "QY5jDhCwNzLc",
        "outputId": "62672f1b-0c1d-47e9-dc23-1285c74dd6ba"
      },
      "outputs": [
        {
          "data": {
            "text/html": [
              "<div>\n",
              "<style scoped>\n",
              "    .dataframe tbody tr th:only-of-type {\n",
              "        vertical-align: middle;\n",
              "    }\n",
              "\n",
              "    .dataframe tbody tr th {\n",
              "        vertical-align: top;\n",
              "    }\n",
              "\n",
              "    .dataframe thead tr th {\n",
              "        text-align: left;\n",
              "    }\n",
              "\n",
              "    .dataframe thead tr:last-of-type th {\n",
              "        text-align: right;\n",
              "    }\n",
              "</style>\n",
              "<table border=\"1\" class=\"dataframe\">\n",
              "  <thead>\n",
              "    <tr>\n",
              "      <th></th>\n",
              "      <th colspan=\"4\" halign=\"left\">transaction_total</th>\n",
              "    </tr>\n",
              "    <tr>\n",
              "      <th></th>\n",
              "      <th>mean</th>\n",
              "      <th>max</th>\n",
              "      <th>min</th>\n",
              "      <th>sum</th>\n",
              "    </tr>\n",
              "    <tr>\n",
              "      <th>store_location</th>\n",
              "      <th></th>\n",
              "      <th></th>\n",
              "      <th></th>\n",
              "      <th></th>\n",
              "    </tr>\n",
              "  </thead>\n",
              "  <tbody>\n",
              "    <tr>\n",
              "      <th>Astoria</th>\n",
              "      <td>4.589917</td>\n",
              "      <td>45.0</td>\n",
              "      <td>0.8</td>\n",
              "      <td>232213.06</td>\n",
              "    </tr>\n",
              "    <tr>\n",
              "      <th>Hell's Kitchen</th>\n",
              "      <td>4.661440</td>\n",
              "      <td>360.0</td>\n",
              "      <td>0.8</td>\n",
              "      <td>236474.87</td>\n",
              "    </tr>\n",
              "    <tr>\n",
              "      <th>Lower Manhattan</th>\n",
              "      <td>4.814613</td>\n",
              "      <td>72.0</td>\n",
              "      <td>0.8</td>\n",
              "      <td>230032.60</td>\n",
              "    </tr>\n",
              "  </tbody>\n",
              "</table>\n",
              "</div>"
            ],
            "text/plain": [
              "                transaction_total                       \n",
              "                             mean    max  min        sum\n",
              "store_location                                          \n",
              "Astoria                  4.589917   45.0  0.8  232213.06\n",
              "Hell's Kitchen           4.661440  360.0  0.8  236474.87\n",
              "Lower Manhattan          4.814613   72.0  0.8  230032.60"
            ]
          },
          "execution_count": 21,
          "metadata": {},
          "output_type": "execute_result"
        }
      ],
      "source": [
        "store_location = df_coffee.groupby('store_location').agg({'transaction_total': ['mean', 'max', 'min', 'sum']})\n",
        "store_location"
      ]
    },
    {
      "cell_type": "markdown",
      "metadata": {
        "id": "n1MEPQ2FNzLc"
      },
      "source": [
        "11. Determine at what time of the day the most products are sold (work with exact hours or point in time)."
      ]
    },
    {
      "cell_type": "code",
      "execution_count": null,
      "metadata": {
        "id": "Ysmx25uONzLc",
        "outputId": "2f672894-5260-4fe9-8663-dce45018b1a6"
      },
      "outputs": [
        {
          "data": {
            "text/plain": [
              "0          7.0\n",
              "1          7.0\n",
              "2          7.0\n",
              "3          7.0\n",
              "4          7.0\n",
              "          ... \n",
              "149111    20.0\n",
              "149112    20.0\n",
              "149113    20.0\n",
              "149114    20.0\n",
              "149115    20.0\n",
              "Name: round_hour, Length: 149116, dtype: float64"
            ]
          },
          "execution_count": 12,
          "metadata": {},
          "output_type": "execute_result"
        }
      ],
      "source": [
        "df_coffee['hour'] = pd.to_datetime(df_coffee['transaction_time'], format='%H:%M:%S') #Convert the hour into a date/time format.\n",
        "df_coffee['round_hour'] = df_coffee['hour'].dt.hour #Get the round value of the hour\n",
        "df_coffee['round_hour']"
      ]
    },
    {
      "cell_type": "code",
      "execution_count": null,
      "metadata": {
        "id": "KsWCyd-DNzLc",
        "outputId": "56052d0f-8463-4d95-f3ed-2cc05704715c"
      },
      "outputs": [
        {
          "data": {
            "text/html": [
              "<div>\n",
              "<style scoped>\n",
              "    .dataframe tbody tr th:only-of-type {\n",
              "        vertical-align: middle;\n",
              "    }\n",
              "\n",
              "    .dataframe tbody tr th {\n",
              "        vertical-align: top;\n",
              "    }\n",
              "\n",
              "    .dataframe thead tr th {\n",
              "        text-align: left;\n",
              "    }\n",
              "\n",
              "    .dataframe thead tr:last-of-type th {\n",
              "        text-align: right;\n",
              "    }\n",
              "</style>\n",
              "<table border=\"1\" class=\"dataframe\">\n",
              "  <thead>\n",
              "    <tr>\n",
              "      <th></th>\n",
              "      <th colspan=\"2\" halign=\"left\">transaction_total</th>\n",
              "    </tr>\n",
              "    <tr>\n",
              "      <th></th>\n",
              "      <th>max</th>\n",
              "      <th>sum</th>\n",
              "    </tr>\n",
              "    <tr>\n",
              "      <th>round_hour</th>\n",
              "      <th></th>\n",
              "      <th></th>\n",
              "    </tr>\n",
              "  </thead>\n",
              "  <tbody>\n",
              "    <tr>\n",
              "      <th>6.0</th>\n",
              "      <td>45.0</td>\n",
              "      <td>21900.27</td>\n",
              "    </tr>\n",
              "    <tr>\n",
              "      <th>7.0</th>\n",
              "      <td>45.0</td>\n",
              "      <td>63503.67</td>\n",
              "    </tr>\n",
              "    <tr>\n",
              "      <th>8.0</th>\n",
              "      <td>56.0</td>\n",
              "      <td>82692.87</td>\n",
              "    </tr>\n",
              "    <tr>\n",
              "      <th>9.0</th>\n",
              "      <td>360.0</td>\n",
              "      <td>85164.78</td>\n",
              "    </tr>\n",
              "    <tr>\n",
              "      <th>10.0</th>\n",
              "      <td>360.0</td>\n",
              "      <td>88670.89</td>\n",
              "    </tr>\n",
              "    <tr>\n",
              "      <th>11.0</th>\n",
              "      <td>360.0</td>\n",
              "      <td>46319.14</td>\n",
              "    </tr>\n",
              "    <tr>\n",
              "      <th>12.0</th>\n",
              "      <td>45.0</td>\n",
              "      <td>40185.79</td>\n",
              "    </tr>\n",
              "    <tr>\n",
              "      <th>13.0</th>\n",
              "      <td>45.0</td>\n",
              "      <td>40367.45</td>\n",
              "    </tr>\n",
              "    <tr>\n",
              "      <th>14.0</th>\n",
              "      <td>45.0</td>\n",
              "      <td>41304.74</td>\n",
              "    </tr>\n",
              "    <tr>\n",
              "      <th>15.0</th>\n",
              "      <td>45.0</td>\n",
              "      <td>41720.10</td>\n",
              "    </tr>\n",
              "    <tr>\n",
              "      <th>16.0</th>\n",
              "      <td>45.0</td>\n",
              "      <td>41122.75</td>\n",
              "    </tr>\n",
              "    <tr>\n",
              "      <th>17.0</th>\n",
              "      <td>28.0</td>\n",
              "      <td>40134.31</td>\n",
              "    </tr>\n",
              "    <tr>\n",
              "      <th>18.0</th>\n",
              "      <td>45.0</td>\n",
              "      <td>34286.20</td>\n",
              "    </tr>\n",
              "    <tr>\n",
              "      <th>19.0</th>\n",
              "      <td>45.0</td>\n",
              "      <td>28429.28</td>\n",
              "    </tr>\n",
              "    <tr>\n",
              "      <th>20.0</th>\n",
              "      <td>45.0</td>\n",
              "      <td>2935.64</td>\n",
              "    </tr>\n",
              "  </tbody>\n",
              "</table>\n",
              "</div>"
            ],
            "text/plain": [
              "           transaction_total          \n",
              "                         max       sum\n",
              "round_hour                            \n",
              "6.0                     45.0  21900.27\n",
              "7.0                     45.0  63503.67\n",
              "8.0                     56.0  82692.87\n",
              "9.0                    360.0  85164.78\n",
              "10.0                   360.0  88670.89\n",
              "11.0                   360.0  46319.14\n",
              "12.0                    45.0  40185.79\n",
              "13.0                    45.0  40367.45\n",
              "14.0                    45.0  41304.74\n",
              "15.0                    45.0  41720.10\n",
              "16.0                    45.0  41122.75\n",
              "17.0                    28.0  40134.31\n",
              "18.0                    45.0  34286.20\n",
              "19.0                    45.0  28429.28\n",
              "20.0                    45.0   2935.64"
            ]
          },
          "execution_count": 22,
          "metadata": {},
          "output_type": "execute_result"
        }
      ],
      "source": [
        "most_sold_time = df_coffee.groupby('round_hour').agg({'transaction_total': ['max','sum']})\n",
        "most_sold_time\n",
        "\n",
        "# Most sold time is 10 AM"
      ]
    },
    {
      "cell_type": "markdown",
      "metadata": {
        "id": "M_UgKux4NzLc"
      },
      "source": [
        "12. Show graphically the previous relationship, (from point 11)."
      ]
    },
    {
      "cell_type": "code",
      "execution_count": null,
      "metadata": {
        "id": "gy6Xd2tlNzLc",
        "outputId": "bae3a89f-64d7-481e-fabb-055b72cf10ea"
      },
      "outputs": [
        {
          "data": {
            "image/png": "[encoded data removed]",
            "text/plain": [
              "<Figure size 1500x800 with 1 Axes>"
            ]
          },
          "metadata": {},
          "output_type": "display_data"
        }
      ],
      "source": [
        "plt.figure(figsize=(15, 8))\n",
        "sns.countplot(data=df_coffee, x='round_hour', palette='Set2')\n",
        "plt.title('Sales according to time')\n",
        "plt.xlabel('Transactions')\n",
        "plt.ylabel('Hours')\n",
        "plt.show()"
      ]
    },
    {
      "cell_type": "markdown",
      "metadata": {
        "id": "47lvCiCaNzLd"
      },
      "source": [
        "13. Determine which month was more productive and differentiate by store or `store_location` this production."
      ]
    },
    {
      "cell_type": "code",
      "execution_count": null,
      "metadata": {
        "id": "4DIrYgxKNzLd",
        "outputId": "0d7c4586-4595-44f7-88f1-9b7ffd236b72"
      },
      "outputs": [
        {
          "data": {
            "text/plain": [
              "0         Lower Manhattan\n",
              "1         Lower Manhattan\n",
              "2         Lower Manhattan\n",
              "3         Lower Manhattan\n",
              "4         Lower Manhattan\n",
              "               ...       \n",
              "149111     Hell's Kitchen\n",
              "149112     Hell's Kitchen\n",
              "149113     Hell's Kitchen\n",
              "149114     Hell's Kitchen\n",
              "149115     Hell's Kitchen\n",
              "Name: store_location, Length: 149100, dtype: object"
            ]
          },
          "execution_count": 10,
          "metadata": {},
          "output_type": "execute_result"
        }
      ],
      "source": [
        "df_coffee['store_location'].dropna()"
      ]
    },
    {
      "cell_type": "code",
      "execution_count": null,
      "metadata": {
        "id": "9cvzn16KNzLd",
        "outputId": "e94b8b38-5c19-4949-b7c6-1d821626474c"
      },
      "outputs": [
        {
          "data": {
            "image/png": "[encoded data removed]",
            "text/plain": [
              "<Figure size 1200x600 with 1 Axes>"
            ]
          },
          "metadata": {},
          "output_type": "display_data"
        }
      ],
      "source": [
        "df_coffee['transaction_month'] = pd.to_datetime(df_coffee['transaction_date']).dt.month #Converts the format from date to month.\n",
        "\n",
        "plt.figure(figsize=(12, 6))\n",
        "sns.histplot(data=df_coffee, x='transaction_month', hue='store_location', bins=12, multiple='dodge', palette='viridis')\n",
        "plt.title('Monthly sales and store distribution', fontsize=14)\n",
        "plt.xlabel('Month', fontsize=12)\n",
        "plt.ylabel('Amount sold', fontsize=12)\n",
        "plt.xticks(range(1, 7))  #Ensure that the X-axis shows all months from 1 to 6.\n",
        "plt.legend(title='Store location', labels=[\"Lower Manhattan\",\"Hell's Kitchen\",\"Astoria\"], title_fontsize=12, fontsize=10, bbox_to_anchor=(1, 1), loc='upper left')  # Move legend outside the plot\n",
        "\n",
        "# Adjust layout to prevent overlapping\n",
        "plt.tight_layout()\n",
        "\n",
        "plt.show()\n",
        "\n",
        "# We only have information for the first six months of the year. The month most productive so far with the information provided is June."
      ]
    },
    {
      "cell_type": "markdown",
      "metadata": {
        "id": "Pmkezid8NzLd"
      },
      "source": [
        "14. Determine the average, maximum value, minimum value and total sales for each product category (`product_category`)."
      ]
    },
    {
      "cell_type": "code",
      "execution_count": null,
      "metadata": {
        "id": "doOXzAUuNzLe",
        "outputId": "22b2c1c6-6a91-4316-b844-30ee42f16605"
      },
      "outputs": [
        {
          "data": {
            "text/html": [
              "<div>\n",
              "<style scoped>\n",
              "    .dataframe tbody tr th:only-of-type {\n",
              "        vertical-align: middle;\n",
              "    }\n",
              "\n",
              "    .dataframe tbody tr th {\n",
              "        vertical-align: top;\n",
              "    }\n",
              "\n",
              "    .dataframe thead tr th {\n",
              "        text-align: left;\n",
              "    }\n",
              "\n",
              "    .dataframe thead tr:last-of-type th {\n",
              "        text-align: right;\n",
              "    }\n",
              "</style>\n",
              "<table border=\"1\" class=\"dataframe\">\n",
              "  <thead>\n",
              "    <tr>\n",
              "      <th></th>\n",
              "      <th colspan=\"4\" halign=\"left\">transaction_total</th>\n",
              "    </tr>\n",
              "    <tr>\n",
              "      <th></th>\n",
              "      <th>mean</th>\n",
              "      <th>max</th>\n",
              "      <th>min</th>\n",
              "      <th>sum</th>\n",
              "    </tr>\n",
              "    <tr>\n",
              "      <th>product_category</th>\n",
              "      <th></th>\n",
              "      <th></th>\n",
              "      <th></th>\n",
              "      <th></th>\n",
              "    </tr>\n",
              "  </thead>\n",
              "  <tbody>\n",
              "    <tr>\n",
              "      <th>Bakery</th>\n",
              "      <td>3.610969</td>\n",
              "      <td>9.00</td>\n",
              "      <td>2.65</td>\n",
              "      <td>82315.64</td>\n",
              "    </tr>\n",
              "    <tr>\n",
              "      <th>Branded</th>\n",
              "      <td>18.215529</td>\n",
              "      <td>72.00</td>\n",
              "      <td>12.00</td>\n",
              "      <td>13607.00</td>\n",
              "    </tr>\n",
              "    <tr>\n",
              "      <th>Coffee</th>\n",
              "      <td>4.621207</td>\n",
              "      <td>17.00</td>\n",
              "      <td>2.00</td>\n",
              "      <td>269952.45</td>\n",
              "    </tr>\n",
              "    <tr>\n",
              "      <th>Coffee beans</th>\n",
              "      <td>22.866657</td>\n",
              "      <td>360.00</td>\n",
              "      <td>10.00</td>\n",
              "      <td>40085.25</td>\n",
              "    </tr>\n",
              "    <tr>\n",
              "      <th>Drinking Chocolate</th>\n",
              "      <td>6.314337</td>\n",
              "      <td>14.25</td>\n",
              "      <td>3.50</td>\n",
              "      <td>72406.50</td>\n",
              "    </tr>\n",
              "    <tr>\n",
              "      <th>Flavours</th>\n",
              "      <td>1.238409</td>\n",
              "      <td>3.20</td>\n",
              "      <td>0.80</td>\n",
              "      <td>8408.80</td>\n",
              "    </tr>\n",
              "    <tr>\n",
              "      <th>Loose Tea</th>\n",
              "      <td>9.267438</td>\n",
              "      <td>10.95</td>\n",
              "      <td>8.95</td>\n",
              "      <td>11213.60</td>\n",
              "    </tr>\n",
              "    <tr>\n",
              "      <th>Packaged Chocolate</th>\n",
              "      <td>9.050595</td>\n",
              "      <td>13.33</td>\n",
              "      <td>6.40</td>\n",
              "      <td>4407.64</td>\n",
              "    </tr>\n",
              "    <tr>\n",
              "      <th>Tea</th>\n",
              "      <td>4.321458</td>\n",
              "      <td>12.00</td>\n",
              "      <td>2.50</td>\n",
              "      <td>196405.95</td>\n",
              "    </tr>\n",
              "  </tbody>\n",
              "</table>\n",
              "</div>"
            ],
            "text/plain": [
              "                   transaction_total                          \n",
              "                                mean     max    min        sum\n",
              "product_category                                              \n",
              "Bakery                      3.610969    9.00   2.65   82315.64\n",
              "Branded                    18.215529   72.00  12.00   13607.00\n",
              "Coffee                      4.621207   17.00   2.00  269952.45\n",
              "Coffee beans               22.866657  360.00  10.00   40085.25\n",
              "Drinking Chocolate          6.314337   14.25   3.50   72406.50\n",
              "Flavours                    1.238409    3.20   0.80    8408.80\n",
              "Loose Tea                   9.267438   10.95   8.95   11213.60\n",
              "Packaged Chocolate          9.050595   13.33   6.40    4407.64\n",
              "Tea                         4.321458   12.00   2.50  196405.95"
            ]
          },
          "execution_count": 23,
          "metadata": {},
          "output_type": "execute_result"
        }
      ],
      "source": [
        "product_category_values = df_coffee.groupby('product_category').agg({'transaction_total': ['mean', 'max', 'min', 'sum']})\n",
        "product_category_values"
      ]
    },
    {
      "cell_type": "markdown",
      "metadata": {
        "id": "TtPZWPEHNzLe"
      },
      "source": [
        "15. Graph any interesting metric you can think of."
      ]
    },
    {
      "cell_type": "code",
      "execution_count": null,
      "metadata": {
        "id": "KDN9M8cWNzLe",
        "outputId": "ab579238-5c17-4ce6-e95d-f9b367066ef3"
      },
      "outputs": [
        {
          "data": {
            "image/png": "[encoded data removed]",
            "text/plain": [
              "<Figure size 2000x1000 with 1 Axes>"
            ]
          },
          "metadata": {},
          "output_type": "display_data"
        }
      ],
      "source": [
        "value_counts = df_coffee['product_category'].value_counts()\n",
        "\n",
        "plt.figure(figsize=(20, 10))\n",
        "palette_color = sns.color_palette('bright')\n",
        "plt.pie(value_counts, autopct='%1.1f%%', startangle=90, colors=palette_color, labeldistance=1.1, textprops={'rotation': 70, 'fontsize': 8})\n",
        "#autopct='%1.1f%%':This displays the percentages on the pie chart with one decimal place.\n",
        "#The startangle parameter in a pie chart determines the starting angle of the first slice\n",
        "plt.legend(value_counts.index, title=\"Product categories\", bbox_to_anchor=(0.95,0.5), loc=\"center left\")\n",
        "plt.title('Distribution of Product categories', fontsize=16)\n",
        "plt.tight_layout()\n",
        "plt.show()\n",
        "\n",
        "# This graph shows the distribution of product categories by percentage, the main category being coffee, followed by tea and bakery."
      ]
    }
  ],
  "metadata": {
    "kernelspec": {
      "display_name": "Python 3",
      "language": "python",
      "name": "python3"
    },
    "language_info": {
      "codemirror_mode": {
        "name": "ipython",
        "version": 3
      },
      "file_extension": ".py",
      "mimetype": "text/x-python",
      "name": "python",
      "nbconvert_exporter": "python",
      "pygments_lexer": "ipython3",
      "version": "3.13.1"
    },
    "colab": {
      "provenance": []
    }
  },
  "nbformat": 4,
  "nbformat_minor": 0
}